{
  "nbformat": 4,
  "nbformat_minor": 0,
  "metadata": {
    "colab": {
      "name": "Copy of [Students Vers] Kapsel-Math-Terapan-Week 4 Text Processing NLTK 1.ipynb",
      "provenance": [],
      "collapsed_sections": [
        "L1o2wnB5sPrL",
        "d8dgLLZX30Kq",
        "GKKaK94W502u",
        "4pUrEABJ7hX1",
        "kZ7HAC_u-Zo6",
        "ggC2RMawBEn6",
        "1PYCffRZYzZp",
        "Rz1nzFXBa8zg",
        "iXNktDkBgn2i",
        "SbW9wiCKhp_H",
        "gDynBLpBjfsu",
        "Xy6B7-EDkZaN"
      ],
      "include_colab_link": true
    },
    "kernelspec": {
      "name": "python3",
      "display_name": "Python 3"
    }
  },
  "cells": [
    {
      "cell_type": "markdown",
      "metadata": {
        "id": "view-in-github",
        "colab_type": "text"
      },
      "source": [
        "<a href=\"https://colab.research.google.com/github/joeenn/Kapita-Selekta-Matematika-Terapan/blob/main/Text%20Processing%20with%20NLTK.ipynb\" target=\"_parent\"><img src=\"https://colab.research.google.com/assets/colab-badge.svg\" alt=\"Open In Colab\"/></a>"
      ]
    },
    {
      "cell_type": "markdown",
      "metadata": {
        "id": "B_LhWj4ISZCv"
      },
      "source": [
        "# Getting Started With Python’s NLTK"
      ]
    },
    {
      "cell_type": "markdown",
      "metadata": {
        "id": "nskQgoyrSage"
      },
      "source": [
        "Install library NLTK"
      ]
    },
    {
      "cell_type": "code",
      "metadata": {
        "id": "h8dru5_aSi2x",
        "colab": {
          "base_uri": "https://localhost:8080/"
        },
        "outputId": "cfcf8426-a1be-4d39-c019-fa233db9e27d"
      },
      "source": [
        "!pip install nltk==3.5"
      ],
      "execution_count": null,
      "outputs": [
        {
          "output_type": "stream",
          "name": "stdout",
          "text": [
            "Collecting nltk==3.5\n",
            "  Downloading nltk-3.5.zip (1.4 MB)\n",
            "\u001b[?25l\r\u001b[K     |▎                               | 10 kB 24.9 MB/s eta 0:00:01\r\u001b[K     |▌                               | 20 kB 26.0 MB/s eta 0:00:01\r\u001b[K     |▊                               | 30 kB 12.5 MB/s eta 0:00:01\r\u001b[K     |█                               | 40 kB 9.8 MB/s eta 0:00:01\r\u001b[K     |█▏                              | 51 kB 5.1 MB/s eta 0:00:01\r\u001b[K     |█▍                              | 61 kB 5.5 MB/s eta 0:00:01\r\u001b[K     |█▋                              | 71 kB 6.0 MB/s eta 0:00:01\r\u001b[K     |█▉                              | 81 kB 6.7 MB/s eta 0:00:01\r\u001b[K     |██                              | 92 kB 6.9 MB/s eta 0:00:01\r\u001b[K     |██▎                             | 102 kB 5.4 MB/s eta 0:00:01\r\u001b[K     |██▌                             | 112 kB 5.4 MB/s eta 0:00:01\r\u001b[K     |██▊                             | 122 kB 5.4 MB/s eta 0:00:01\r\u001b[K     |███                             | 133 kB 5.4 MB/s eta 0:00:01\r\u001b[K     |███▏                            | 143 kB 5.4 MB/s eta 0:00:01\r\u001b[K     |███▍                            | 153 kB 5.4 MB/s eta 0:00:01\r\u001b[K     |███▋                            | 163 kB 5.4 MB/s eta 0:00:01\r\u001b[K     |███▉                            | 174 kB 5.4 MB/s eta 0:00:01\r\u001b[K     |████▏                           | 184 kB 5.4 MB/s eta 0:00:01\r\u001b[K     |████▍                           | 194 kB 5.4 MB/s eta 0:00:01\r\u001b[K     |████▋                           | 204 kB 5.4 MB/s eta 0:00:01\r\u001b[K     |████▉                           | 215 kB 5.4 MB/s eta 0:00:01\r\u001b[K     |█████                           | 225 kB 5.4 MB/s eta 0:00:01\r\u001b[K     |█████▎                          | 235 kB 5.4 MB/s eta 0:00:01\r\u001b[K     |█████▌                          | 245 kB 5.4 MB/s eta 0:00:01\r\u001b[K     |█████▊                          | 256 kB 5.4 MB/s eta 0:00:01\r\u001b[K     |██████                          | 266 kB 5.4 MB/s eta 0:00:01\r\u001b[K     |██████▏                         | 276 kB 5.4 MB/s eta 0:00:01\r\u001b[K     |██████▍                         | 286 kB 5.4 MB/s eta 0:00:01\r\u001b[K     |██████▋                         | 296 kB 5.4 MB/s eta 0:00:01\r\u001b[K     |██████▉                         | 307 kB 5.4 MB/s eta 0:00:01\r\u001b[K     |███████                         | 317 kB 5.4 MB/s eta 0:00:01\r\u001b[K     |███████▎                        | 327 kB 5.4 MB/s eta 0:00:01\r\u001b[K     |███████▌                        | 337 kB 5.4 MB/s eta 0:00:01\r\u001b[K     |███████▊                        | 348 kB 5.4 MB/s eta 0:00:01\r\u001b[K     |████████                        | 358 kB 5.4 MB/s eta 0:00:01\r\u001b[K     |████████▎                       | 368 kB 5.4 MB/s eta 0:00:01\r\u001b[K     |████████▌                       | 378 kB 5.4 MB/s eta 0:00:01\r\u001b[K     |████████▊                       | 389 kB 5.4 MB/s eta 0:00:01\r\u001b[K     |█████████                       | 399 kB 5.4 MB/s eta 0:00:01\r\u001b[K     |█████████▏                      | 409 kB 5.4 MB/s eta 0:00:01\r\u001b[K     |█████████▍                      | 419 kB 5.4 MB/s eta 0:00:01\r\u001b[K     |█████████▋                      | 430 kB 5.4 MB/s eta 0:00:01\r\u001b[K     |█████████▉                      | 440 kB 5.4 MB/s eta 0:00:01\r\u001b[K     |██████████                      | 450 kB 5.4 MB/s eta 0:00:01\r\u001b[K     |██████████▎                     | 460 kB 5.4 MB/s eta 0:00:01\r\u001b[K     |██████████▌                     | 471 kB 5.4 MB/s eta 0:00:01\r\u001b[K     |██████████▊                     | 481 kB 5.4 MB/s eta 0:00:01\r\u001b[K     |███████████                     | 491 kB 5.4 MB/s eta 0:00:01\r\u001b[K     |███████████▏                    | 501 kB 5.4 MB/s eta 0:00:01\r\u001b[K     |███████████▍                    | 512 kB 5.4 MB/s eta 0:00:01\r\u001b[K     |███████████▋                    | 522 kB 5.4 MB/s eta 0:00:01\r\u001b[K     |███████████▉                    | 532 kB 5.4 MB/s eta 0:00:01\r\u001b[K     |████████████▏                   | 542 kB 5.4 MB/s eta 0:00:01\r\u001b[K     |████████████▍                   | 552 kB 5.4 MB/s eta 0:00:01\r\u001b[K     |████████████▋                   | 563 kB 5.4 MB/s eta 0:00:01\r\u001b[K     |████████████▉                   | 573 kB 5.4 MB/s eta 0:00:01\r\u001b[K     |█████████████                   | 583 kB 5.4 MB/s eta 0:00:01\r\u001b[K     |█████████████▎                  | 593 kB 5.4 MB/s eta 0:00:01\r\u001b[K     |█████████████▌                  | 604 kB 5.4 MB/s eta 0:00:01\r\u001b[K     |█████████████▊                  | 614 kB 5.4 MB/s eta 0:00:01\r\u001b[K     |██████████████                  | 624 kB 5.4 MB/s eta 0:00:01\r\u001b[K     |██████████████▏                 | 634 kB 5.4 MB/s eta 0:00:01\r\u001b[K     |██████████████▍                 | 645 kB 5.4 MB/s eta 0:00:01\r\u001b[K     |██████████████▋                 | 655 kB 5.4 MB/s eta 0:00:01\r\u001b[K     |██████████████▉                 | 665 kB 5.4 MB/s eta 0:00:01\r\u001b[K     |███████████████                 | 675 kB 5.4 MB/s eta 0:00:01\r\u001b[K     |███████████████▎                | 686 kB 5.4 MB/s eta 0:00:01\r\u001b[K     |███████████████▌                | 696 kB 5.4 MB/s eta 0:00:01\r\u001b[K     |███████████████▊                | 706 kB 5.4 MB/s eta 0:00:01\r\u001b[K     |████████████████                | 716 kB 5.4 MB/s eta 0:00:01\r\u001b[K     |████████████████▎               | 727 kB 5.4 MB/s eta 0:00:01\r\u001b[K     |████████████████▌               | 737 kB 5.4 MB/s eta 0:00:01\r\u001b[K     |████████████████▊               | 747 kB 5.4 MB/s eta 0:00:01\r\u001b[K     |█████████████████               | 757 kB 5.4 MB/s eta 0:00:01\r\u001b[K     |█████████████████▏              | 768 kB 5.4 MB/s eta 0:00:01\r\u001b[K     |█████████████████▍              | 778 kB 5.4 MB/s eta 0:00:01\r\u001b[K     |█████████████████▋              | 788 kB 5.4 MB/s eta 0:00:01\r\u001b[K     |█████████████████▉              | 798 kB 5.4 MB/s eta 0:00:01\r\u001b[K     |██████████████████              | 808 kB 5.4 MB/s eta 0:00:01\r\u001b[K     |██████████████████▎             | 819 kB 5.4 MB/s eta 0:00:01\r\u001b[K     |██████████████████▌             | 829 kB 5.4 MB/s eta 0:00:01\r\u001b[K     |██████████████████▊             | 839 kB 5.4 MB/s eta 0:00:01\r\u001b[K     |███████████████████             | 849 kB 5.4 MB/s eta 0:00:01\r\u001b[K     |███████████████████▏            | 860 kB 5.4 MB/s eta 0:00:01\r\u001b[K     |███████████████████▍            | 870 kB 5.4 MB/s eta 0:00:01\r\u001b[K     |███████████████████▋            | 880 kB 5.4 MB/s eta 0:00:01\r\u001b[K     |███████████████████▉            | 890 kB 5.4 MB/s eta 0:00:01\r\u001b[K     |████████████████████▏           | 901 kB 5.4 MB/s eta 0:00:01\r\u001b[K     |████████████████████▍           | 911 kB 5.4 MB/s eta 0:00:01\r\u001b[K     |████████████████████▋           | 921 kB 5.4 MB/s eta 0:00:01\r\u001b[K     |████████████████████▉           | 931 kB 5.4 MB/s eta 0:00:01\r\u001b[K     |█████████████████████           | 942 kB 5.4 MB/s eta 0:00:01\r\u001b[K     |█████████████████████▎          | 952 kB 5.4 MB/s eta 0:00:01\r\u001b[K     |█████████████████████▌          | 962 kB 5.4 MB/s eta 0:00:01\r\u001b[K     |█████████████████████▊          | 972 kB 5.4 MB/s eta 0:00:01\r\u001b[K     |██████████████████████          | 983 kB 5.4 MB/s eta 0:00:01\r\u001b[K     |██████████████████████▏         | 993 kB 5.4 MB/s eta 0:00:01\r\u001b[K     |██████████████████████▍         | 1.0 MB 5.4 MB/s eta 0:00:01\r\u001b[K     |██████████████████████▋         | 1.0 MB 5.4 MB/s eta 0:00:01\r\u001b[K     |██████████████████████▉         | 1.0 MB 5.4 MB/s eta 0:00:01\r\u001b[K     |███████████████████████         | 1.0 MB 5.4 MB/s eta 0:00:01\r\u001b[K     |███████████████████████▎        | 1.0 MB 5.4 MB/s eta 0:00:01\r\u001b[K     |███████████████████████▌        | 1.1 MB 5.4 MB/s eta 0:00:01\r\u001b[K     |███████████████████████▊        | 1.1 MB 5.4 MB/s eta 0:00:01\r\u001b[K     |████████████████████████        | 1.1 MB 5.4 MB/s eta 0:00:01\r\u001b[K     |████████████████████████▎       | 1.1 MB 5.4 MB/s eta 0:00:01\r\u001b[K     |████████████████████████▌       | 1.1 MB 5.4 MB/s eta 0:00:01\r\u001b[K     |████████████████████████▊       | 1.1 MB 5.4 MB/s eta 0:00:01\r\u001b[K     |█████████████████████████       | 1.1 MB 5.4 MB/s eta 0:00:01\r\u001b[K     |█████████████████████████▏      | 1.1 MB 5.4 MB/s eta 0:00:01\r\u001b[K     |█████████████████████████▍      | 1.1 MB 5.4 MB/s eta 0:00:01\r\u001b[K     |█████████████████████████▋      | 1.1 MB 5.4 MB/s eta 0:00:01\r\u001b[K     |█████████████████████████▉      | 1.2 MB 5.4 MB/s eta 0:00:01\r\u001b[K     |██████████████████████████      | 1.2 MB 5.4 MB/s eta 0:00:01\r\u001b[K     |██████████████████████████▎     | 1.2 MB 5.4 MB/s eta 0:00:01\r\u001b[K     |██████████████████████████▌     | 1.2 MB 5.4 MB/s eta 0:00:01\r\u001b[K     |██████████████████████████▊     | 1.2 MB 5.4 MB/s eta 0:00:01\r\u001b[K     |███████████████████████████     | 1.2 MB 5.4 MB/s eta 0:00:01\r\u001b[K     |███████████████████████████▏    | 1.2 MB 5.4 MB/s eta 0:00:01\r\u001b[K     |███████████████████████████▍    | 1.2 MB 5.4 MB/s eta 0:00:01\r\u001b[K     |███████████████████████████▋    | 1.2 MB 5.4 MB/s eta 0:00:01\r\u001b[K     |███████████████████████████▉    | 1.2 MB 5.4 MB/s eta 0:00:01\r\u001b[K     |████████████████████████████▏   | 1.3 MB 5.4 MB/s eta 0:00:01\r\u001b[K     |████████████████████████████▍   | 1.3 MB 5.4 MB/s eta 0:00:01\r\u001b[K     |████████████████████████████▋   | 1.3 MB 5.4 MB/s eta 0:00:01\r\u001b[K     |████████████████████████████▉   | 1.3 MB 5.4 MB/s eta 0:00:01\r\u001b[K     |█████████████████████████████   | 1.3 MB 5.4 MB/s eta 0:00:01\r\u001b[K     |█████████████████████████████▎  | 1.3 MB 5.4 MB/s eta 0:00:01\r\u001b[K     |█████████████████████████████▌  | 1.3 MB 5.4 MB/s eta 0:00:01\r\u001b[K     |█████████████████████████████▊  | 1.3 MB 5.4 MB/s eta 0:00:01\r\u001b[K     |██████████████████████████████  | 1.3 MB 5.4 MB/s eta 0:00:01\r\u001b[K     |██████████████████████████████▏ | 1.4 MB 5.4 MB/s eta 0:00:01\r\u001b[K     |██████████████████████████████▍ | 1.4 MB 5.4 MB/s eta 0:00:01\r\u001b[K     |██████████████████████████████▋ | 1.4 MB 5.4 MB/s eta 0:00:01\r\u001b[K     |██████████████████████████████▉ | 1.4 MB 5.4 MB/s eta 0:00:01\r\u001b[K     |███████████████████████████████ | 1.4 MB 5.4 MB/s eta 0:00:01\r\u001b[K     |███████████████████████████████▎| 1.4 MB 5.4 MB/s eta 0:00:01\r\u001b[K     |███████████████████████████████▌| 1.4 MB 5.4 MB/s eta 0:00:01\r\u001b[K     |███████████████████████████████▊| 1.4 MB 5.4 MB/s eta 0:00:01\r\u001b[K     |████████████████████████████████| 1.4 MB 5.4 MB/s \n",
            "\u001b[?25hRequirement already satisfied: click in /usr/local/lib/python3.7/dist-packages (from nltk==3.5) (7.1.2)\n",
            "Requirement already satisfied: joblib in /usr/local/lib/python3.7/dist-packages (from nltk==3.5) (1.0.1)\n",
            "Requirement already satisfied: regex in /usr/local/lib/python3.7/dist-packages (from nltk==3.5) (2019.12.20)\n",
            "Requirement already satisfied: tqdm in /usr/local/lib/python3.7/dist-packages (from nltk==3.5) (4.62.3)\n",
            "Building wheels for collected packages: nltk\n",
            "  Building wheel for nltk (setup.py) ... \u001b[?25l\u001b[?25hdone\n",
            "  Created wheel for nltk: filename=nltk-3.5-py3-none-any.whl size=1434694 sha256=748c298e106c582c183550de3d106e63ccbb4e7de906394c5532ba8b9de49f9c\n",
            "  Stored in directory: /root/.cache/pip/wheels/45/6c/46/a1865e7ba706b3817f5d1b2ff7ce8996aabdd0d03d47ba0266\n",
            "Successfully built nltk\n",
            "Installing collected packages: nltk\n",
            "  Attempting uninstall: nltk\n",
            "    Found existing installation: nltk 3.2.5\n",
            "    Uninstalling nltk-3.2.5:\n",
            "      Successfully uninstalled nltk-3.2.5\n",
            "Successfully installed nltk-3.5\n"
          ]
        }
      ]
    },
    {
      "cell_type": "markdown",
      "metadata": {
        "id": "tMgGRp1JS4Ww"
      },
      "source": [
        "Import NLTK"
      ]
    },
    {
      "cell_type": "code",
      "metadata": {
        "id": "31ZOHauLS06u",
        "colab": {
          "base_uri": "https://localhost:8080/"
        },
        "outputId": "143f90e7-db93-490c-d099-f0d2c71b253f"
      },
      "source": [
        "import nltk\n",
        "nltk.download('punkt')"
      ],
      "execution_count": null,
      "outputs": [
        {
          "output_type": "stream",
          "name": "stderr",
          "text": [
            "[nltk_data] Downloading package punkt to /root/nltk_data...\n",
            "[nltk_data]   Unzipping tokenizers/punkt.zip.\n"
          ]
        },
        {
          "output_type": "execute_result",
          "data": {
            "text/plain": [
              "True"
            ]
          },
          "metadata": {},
          "execution_count": 2
        }
      ]
    },
    {
      "cell_type": "markdown",
      "metadata": {
        "id": "TeUsB8C2TQj1"
      },
      "source": [
        "## Case Folding"
      ]
    },
    {
      "cell_type": "markdown",
      "metadata": {
        "id": "5xGi-UDdTq18"
      },
      "source": [
        "Case Folding adalah tahap untuk konversi text menjadi suatu bentuk yang standar. Pada tahap ini biasanya dipilih lowercase untuk membuat huruf kapital menjadi lowercase"
      ]
    },
    {
      "cell_type": "code",
      "metadata": {
        "id": "C6RAx1eBTrgr"
      },
      "source": [
        "example_string = \"\"\"\n",
        "Muad'Dib learned rapidly because his first training was in how to learn 4 books.\n",
        "And the first lesson of all was the basic trust that he could learn.\n",
        "It's shocking to find how many people do not believe they can learn,\n",
        "and how many more believe learning to be difficult. Using email joke@123.com ! and #tweet #paste\"\"\""
      ],
      "execution_count": null,
      "outputs": []
    },
    {
      "cell_type": "code",
      "metadata": {
        "id": "obz1p3JxT-Dc",
        "colab": {
          "base_uri": "https://localhost:8080/"
        },
        "outputId": "f1b0b142-e10b-4281-9160-d4c31c47d977"
      },
      "source": [
        "Lower_string = example_string.lower()\n",
        "\n",
        "print(Lower_string)"
      ],
      "execution_count": null,
      "outputs": [
        {
          "output_type": "stream",
          "name": "stdout",
          "text": [
            "\n",
            "muad'dib learned rapidly because his first training was in how to learn 4 books.\n",
            "and the first lesson of all was the basic trust that he could learn.\n",
            "it's shocking to find how many people do not believe they can learn,\n",
            "and how many more believe learning to be difficult. using email joke@123.com ! and #tweet #paste\n"
          ]
        }
      ]
    },
    {
      "cell_type": "markdown",
      "metadata": {
        "id": "awa_th3kTkjY"
      },
      "source": [
        "## Tokenizing"
      ]
    },
    {
      "cell_type": "markdown",
      "metadata": {
        "id": "33EkORs0U7yK"
      },
      "source": [
        "Pada tahap ini, text yang telah melewati tahap Case Folding akan dilakukan proses pemecahan perkata menggunakan fungsi .word_tokenize() pada library NLTK. Selain itu pada tahap inijuga akan dilakukan proses removing number, whitespace dan puctuation (tanda baca).\n",
        "\n",
        "* Removing number, akan menggunakan fungsi re.sub(pattern, replace_string, string) untuk replace angka dengan “” ada library re (regex) menggunakan pattern \\d+ . Dimana \\d untuk matching digit (0–9) dan + sebagai quantifier untuk menemukan 1 atau lebih matching \\d . Sehingga penggunaanya akan seperti berikut, re.sub(r\"\\d+\", \"\", \"H3llo\") yang akan menghasilkan Hllo.\n",
        "\n",
        "* Removing punctuation, akan menggunakan fungsi .translate() yang akan memetakan teks kedalam character yang sesuai pada mapping table .maketrans() . untuk mengganti sting.punctuation berupa (!”#$%&\\’()*+,-./:;<=>?@[ \\ \\ ]^_` { | } ~ ) dengan \"\" .\n",
        "\n",
        "* Removing whitespace, akan menggunakan fungsi .strip() untuk menghapus whitespace leading dan trailing, dan menggunakan fungsi regex substraction re.sub(pattern, replace_string, string) dengan pattern \\s+ untuk matching whitespace dengan quantifier matching 1 atau lebih whitespace."
      ]
    },
    {
      "cell_type": "code",
      "metadata": {
        "id": "CuZgKS5vU7GE"
      },
      "source": [
        "import string \n",
        "import re #regex library\n",
        "from nltk.tokenize import word_tokenize \n"
      ],
      "execution_count": null,
      "outputs": []
    },
    {
      "cell_type": "code",
      "metadata": {
        "id": "RwetPSwSviCy"
      },
      "source": [
        "#remove angka\n",
        "Lower_string = re.sub(r\"\\d+\", \"\", Lower_string)\n"
      ],
      "execution_count": null,
      "outputs": []
    },
    {
      "cell_type": "code",
      "metadata": {
        "id": "K96RuOqHvjic"
      },
      "source": [
        "#remove punctuation\n",
        "Lower_string = Lower_string.translate(str.maketrans(\"\",\"\",string.punctuation))\n"
      ],
      "execution_count": null,
      "outputs": []
    },
    {
      "cell_type": "code",
      "metadata": {
        "id": "tDxgxriwvluC"
      },
      "source": [
        "#remove whitespace leading & trailing\n",
        "Lower_string = Lower_string.strip()\n"
      ],
      "execution_count": null,
      "outputs": []
    },
    {
      "cell_type": "code",
      "metadata": {
        "id": "GbKnbOk9vndc"
      },
      "source": [
        "#remove multiple whitespace into single whitespace\n",
        "Lower_string = re.sub('\\s+',' ',Lower_string)\n"
      ],
      "execution_count": null,
      "outputs": []
    },
    {
      "cell_type": "code",
      "metadata": {
        "id": "z8HoHDaPwkxx",
        "colab": {
          "base_uri": "https://localhost:8080/"
        },
        "outputId": "0ba9325c-049a-43f7-aa9a-6a1e27ebb753"
      },
      "source": [
        "tokens = nltk.tokenize.word_tokenize(Lower_string)\n",
        "\n",
        "print('Tokenizing Result : \\n') \n",
        "print(tokens)"
      ],
      "execution_count": null,
      "outputs": [
        {
          "output_type": "stream",
          "name": "stdout",
          "text": [
            "Tokenizing Result : \n",
            "\n",
            "['muaddib', 'learned', 'rapidly', 'because', 'his', 'first', 'training', 'was', 'in', 'how', 'to', 'learn', 'books', 'and', 'the', 'first', 'lesson', 'of', 'all', 'was', 'the', 'basic', 'trust', 'that', 'he', 'could', 'learn', 'its', 'shocking', 'to', 'find', 'how', 'many', 'people', 'do', 'not', 'believe', 'they', 'can', 'learn', 'and', 'how', 'many', 'more', 'believe', 'learning', 'to', 'be', 'difficult', 'using', 'email', 'jokecom', 'and', 'tweet', 'paste']\n"
          ]
        }
      ]
    },
    {
      "cell_type": "markdown",
      "metadata": {
        "id": "-xKjJJUZxAe_"
      },
      "source": [
        "Frekuensi kata"
      ]
    },
    {
      "cell_type": "code",
      "metadata": {
        "id": "Ot2hmT4LxCJR"
      },
      "source": [
        "# import word_tokenize & FreqDist from NLTK\n",
        "from nltk.tokenize import word_tokenize \n",
        "from nltk.probability import FreqDist"
      ],
      "execution_count": null,
      "outputs": []
    },
    {
      "cell_type": "code",
      "metadata": {
        "id": "7LnUuF5uxGYt",
        "colab": {
          "base_uri": "https://localhost:8080/"
        },
        "outputId": "9965d2db-8b33-4fe0-e44e-9927451339ad"
      },
      "source": [
        "freq_tokens = nltk.FreqDist(tokens)\n",
        "\n",
        "print('Frequency Tokens : \\n') \n",
        "print(freq_tokens.most_common())"
      ],
      "execution_count": null,
      "outputs": [
        {
          "output_type": "stream",
          "name": "stdout",
          "text": [
            "Frequency Tokens : \n",
            "\n",
            "[('how', 3), ('to', 3), ('learn', 3), ('and', 3), ('first', 2), ('was', 2), ('the', 2), ('many', 2), ('believe', 2), ('muaddib', 1), ('learned', 1), ('rapidly', 1), ('because', 1), ('his', 1), ('training', 1), ('in', 1), ('books', 1), ('lesson', 1), ('of', 1), ('all', 1), ('basic', 1), ('trust', 1), ('that', 1), ('he', 1), ('could', 1), ('its', 1), ('shocking', 1), ('find', 1), ('people', 1), ('do', 1), ('not', 1), ('they', 1), ('can', 1), ('more', 1), ('learning', 1), ('be', 1), ('difficult', 1), ('using', 1), ('email', 1), ('jokecom', 1), ('tweet', 1), ('paste', 1)]\n"
          ]
        }
      ]
    },
    {
      "cell_type": "code",
      "metadata": {
        "id": "6rw3TgOHxMJ2",
        "colab": {
          "base_uri": "https://localhost:8080/",
          "height": 331
        },
        "outputId": "d215e5f1-0685-4d14-df66-7bc01698c0fc"
      },
      "source": [
        "import pandas as pd\n",
        "\n",
        "df_freq_tokens = pd.DataFrame.from_dict(freq_tokens, orient='index')\n",
        "df_freq_tokens.columns = ['Frequency']\n",
        "df_freq_tokens.index.name = 'Key'\n",
        "\n",
        "df_freq_tokens.plot(kind='bar')"
      ],
      "execution_count": null,
      "outputs": [
        {
          "output_type": "execute_result",
          "data": {
            "text/plain": [
              "<matplotlib.axes._subplots.AxesSubplot at 0x7f2178a41a90>"
            ]
          },
          "metadata": {},
          "execution_count": 13
        },
        {
          "output_type": "display_data",
          "data": {
            "image/png": "[encoded data removed]",
            "text/plain": [
              "<Figure size 432x288 with 1 Axes>"
            ]
          },
          "metadata": {
            "needs_background": "light"
          }
        }
      ]
    },
    {
      "cell_type": "markdown",
      "metadata": {
        "id": "mpjOqHZ-TmoU"
      },
      "source": [
        "## Filtering"
      ]
    },
    {
      "cell_type": "code",
      "metadata": {
        "id": "LYkzklUnyBVy",
        "colab": {
          "base_uri": "https://localhost:8080/"
        },
        "outputId": "7b9f45c9-653b-4de8-b478-9e5b6e8418cc"
      },
      "source": [
        "nltk.download('stopwords')"
      ],
      "execution_count": null,
      "outputs": [
        {
          "output_type": "stream",
          "name": "stderr",
          "text": [
            "[nltk_data] Downloading package stopwords to /root/nltk_data...\n",
            "[nltk_data]   Unzipping corpora/stopwords.zip.\n"
          ]
        },
        {
          "output_type": "execute_result",
          "data": {
            "text/plain": [
              "True"
            ]
          },
          "metadata": {},
          "execution_count": 14
        }
      ]
    },
    {
      "cell_type": "code",
      "metadata": {
        "id": "vSMI5lH7x5Ma",
        "colab": {
          "base_uri": "https://localhost:8080/"
        },
        "outputId": "27f33ede-61fd-4a35-ba02-8c7894b476d7"
      },
      "source": [
        "from nltk.corpus import stopwords\n",
        "\n",
        "# tokenize text\n",
        "freq_tokens\n",
        "\n",
        "list_stopwords = set(stopwords.words('english'))\n",
        "\n",
        "#remove stopword pada list token\n",
        "tokens_without_stopword = [word for word in freq_tokens if not word in list_stopwords]\n",
        "\n",
        "\n",
        "print(tokens_without_stopword)"
      ],
      "execution_count": null,
      "outputs": [
        {
          "output_type": "stream",
          "name": "stdout",
          "text": [
            "['learn', 'first', 'many', 'believe', 'muaddib', 'learned', 'rapidly', 'training', 'books', 'lesson', 'basic', 'trust', 'could', 'shocking', 'find', 'people', 'learning', 'difficult', 'using', 'email', 'jokecom', 'tweet', 'paste']\n"
          ]
        }
      ]
    },
    {
      "cell_type": "markdown",
      "metadata": {
        "id": "FJwE2tVbToNp"
      },
      "source": [
        "## Stemming"
      ]
    },
    {
      "cell_type": "code",
      "metadata": {
        "id": "xo4l3ptWyUz5"
      },
      "source": [
        "from nltk.stem import PorterStemmer\n",
        "from nltk.tokenize import word_tokenize"
      ],
      "execution_count": null,
      "outputs": []
    },
    {
      "cell_type": "code",
      "metadata": {
        "id": "YI1NlX73yZnx"
      },
      "source": [
        "stemmer = PorterStemmer()"
      ],
      "execution_count": null,
      "outputs": []
    },
    {
      "cell_type": "code",
      "metadata": {
        "id": "NycyZdVWyd0r",
        "colab": {
          "base_uri": "https://localhost:8080/"
        },
        "outputId": "adc438bb-9e79-4702-fa87-a85fe6e9bf93"
      },
      "source": [
        "# token without stopword\n",
        "list_tokens = tokens_without_stopword\n",
        "\n",
        "# stem\n",
        "output   = [(token + \" : \" + stemmer.stem(token)) for token in list_tokens]\n",
        "\n",
        "output"
      ],
      "execution_count": null,
      "outputs": [
        {
          "output_type": "execute_result",
          "data": {
            "text/plain": [
              "['learn : learn',\n",
              " 'first : first',\n",
              " 'many : mani',\n",
              " 'believe : believ',\n",
              " 'muaddib : muaddib',\n",
              " 'learned : learn',\n",
              " 'rapidly : rapidli',\n",
              " 'training : train',\n",
              " 'books : book',\n",
              " 'lesson : lesson',\n",
              " 'basic : basic',\n",
              " 'trust : trust',\n",
              " 'could : could',\n",
              " 'shocking : shock',\n",
              " 'find : find',\n",
              " 'people : peopl',\n",
              " 'learning : learn',\n",
              " 'difficult : difficult',\n",
              " 'using : use',\n",
              " 'email : email',\n",
              " 'jokecom : jokecom',\n",
              " 'tweet : tweet',\n",
              " 'paste : past']"
            ]
          },
          "metadata": {},
          "execution_count": 18
        }
      ]
    },
    {
      "cell_type": "markdown",
      "metadata": {
        "id": "c9WHyFrNxQ7F"
      },
      "source": [
        "# Homework"
      ]
    },
    {
      "cell_type": "markdown",
      "metadata": {
        "id": "vnOcGugyxTy2"
      },
      "source": [
        "Carilah sentence dinternet mengenai topik Covid-19 dan vaksin, dan lakukan text processing seperti pada contoh2 di atas. "
      ]
    }
  ]
}