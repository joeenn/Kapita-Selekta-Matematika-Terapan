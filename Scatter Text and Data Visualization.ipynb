{
  "nbformat": 4,
  "nbformat_minor": 0,
  "metadata": {
    "colab": {
      "name": "Copy of [Student Vers] Kapsel-Math-Terapan-Week 7 Scatter text.ipynb",
      "provenance": [],
      "collapsed_sections": [
        "L1o2wnB5sPrL",
        "d8dgLLZX30Kq",
        "GKKaK94W502u",
        "4pUrEABJ7hX1",
        "kZ7HAC_u-Zo6",
        "ggC2RMawBEn6",
        "1PYCffRZYzZp",
        "Rz1nzFXBa8zg",
        "iXNktDkBgn2i",
        "SbW9wiCKhp_H",
        "gDynBLpBjfsu",
        "Xy6B7-EDkZaN"
      ],
      "include_colab_link": true
    },
    "kernelspec": {
      "display_name": "Python 3",
      "name": "python3"
    }
  },
  "cells": [
    {
      "cell_type": "markdown",
      "metadata": {
        "id": "view-in-github",
        "colab_type": "text"
      },
      "source": [
        "<a href=\"https://colab.research.google.com/github/joeenn/Kapita-Selekta-Matematika-Terapan/blob/main/Scatter%20Text%20and%20Data%20Visualization.ipynb\" target=\"_parent\"><img src=\"https://colab.research.google.com/assets/colab-badge.svg\" alt=\"Open In Colab\"/></a>"
      ]
    },
    {
      "cell_type": "markdown",
      "metadata": {
        "id": "3oxVH_hz2YL6"
      },
      "source": [
        "**Instalasi**"
      ]
    },
    {
      "cell_type": "code",
      "metadata": {
        "colab": {
          "base_uri": "https://localhost:8080/"
        },
        "id": "8cd1Dnj7FL8i",
        "outputId": "9970fff4-867e-4bd4-fbcf-36776d09fd78"
      },
      "source": [
        "pip install scattertext"
      ],
      "execution_count": null,
      "outputs": [
        {
          "output_type": "stream",
          "name": "stdout",
          "text": [
            "Requirement already satisfied: scattertext in /usr/local/lib/python3.7/dist-packages (0.1.4)\n",
            "Requirement already satisfied: scipy in /usr/local/lib/python3.7/dist-packages (from scattertext) (1.4.1)\n",
            "Requirement already satisfied: flashtext in /usr/local/lib/python3.7/dist-packages (from scattertext) (2.7)\n",
            "Requirement already satisfied: numpy in /usr/local/lib/python3.7/dist-packages (from scattertext) (1.19.5)\n",
            "Requirement already satisfied: scikit-learn in /usr/local/lib/python3.7/dist-packages (from scattertext) (0.22.2.post1)\n",
            "Requirement already satisfied: mock in /usr/local/lib/python3.7/dist-packages (from scattertext) (4.0.3)\n",
            "Requirement already satisfied: gensim>=4.0.0 in /usr/local/lib/python3.7/dist-packages (from scattertext) (4.1.2)\n",
            "Requirement already satisfied: six in /usr/local/lib/python3.7/dist-packages (from scattertext) (1.15.0)\n",
            "Requirement already satisfied: statsmodels in /usr/local/lib/python3.7/dist-packages (from scattertext) (0.10.2)\n",
            "Requirement already satisfied: pandas in /usr/local/lib/python3.7/dist-packages (from scattertext) (1.1.5)\n",
            "Requirement already satisfied: smart-open>=1.8.1 in /usr/local/lib/python3.7/dist-packages (from gensim>=4.0.0->scattertext) (5.2.1)\n",
            "Requirement already satisfied: python-dateutil>=2.7.3 in /usr/local/lib/python3.7/dist-packages (from pandas->scattertext) (2.8.2)\n",
            "Requirement already satisfied: pytz>=2017.2 in /usr/local/lib/python3.7/dist-packages (from pandas->scattertext) (2018.9)\n",
            "Requirement already satisfied: joblib>=0.11 in /usr/local/lib/python3.7/dist-packages (from scikit-learn->scattertext) (1.0.1)\n",
            "Requirement already satisfied: patsy>=0.4.0 in /usr/local/lib/python3.7/dist-packages (from statsmodels->scattertext) (0.5.2)\n"
          ]
        }
      ]
    },
    {
      "cell_type": "markdown",
      "metadata": {
        "id": "ez83tfhF2bL8"
      },
      "source": [
        "**Import Library**"
      ]
    },
    {
      "cell_type": "code",
      "metadata": {
        "colab": {
          "base_uri": "https://localhost:8080/",
          "height": 37
        },
        "id": "s5ojkczJFZRZ",
        "outputId": "5687d148-55fe-4604-ab82-ab67d4f1c729"
      },
      "source": [
        "%matplotlib inline\n",
        "import scattertext as st\n",
        "import re, io\n",
        "from pprint import pprint\n",
        "import pandas as pd\n",
        "import numpy as np\n",
        "from scipy.stats import rankdata, hmean, norm\n",
        "import spacy\n",
        "import os, pkgutil, json, urllib\n",
        "from urllib.request import urlopen\n",
        "from IPython.display import IFrame\n",
        "from IPython.core.display import display, HTML\n",
        "from scattertext import CorpusFromPandas, produce_scattertext_explorer\n",
        "display(HTML(\"<style>.container { width:98% !important; }</style>\"))"
      ],
      "execution_count": null,
      "outputs": [
        {
          "output_type": "display_data",
          "data": {
            "text/html": [
              "<style>.container { width:98% !important; }</style>"
            ],
            "text/plain": [
              "<IPython.core.display.HTML object>"
            ]
          },
          "metadata": {}
        }
      ]
    },
    {
      "cell_type": "markdown",
      "metadata": {
        "id": "dOliFWSP2gk3"
      },
      "source": [
        "**Load Spacy**"
      ]
    },
    {
      "cell_type": "code",
      "metadata": {
        "id": "GP0hxBm2FdiV"
      },
      "source": [
        "import spacy\n",
        "nlp = spacy.load('en')"
      ],
      "execution_count": null,
      "outputs": []
    },
    {
      "cell_type": "markdown",
      "metadata": {
        "id": "OqPNxjs82lJ3"
      },
      "source": [
        "**Load Data Pandas**"
      ]
    },
    {
      "cell_type": "code",
      "metadata": {
        "id": "cPAuyXiCFhes"
      },
      "source": [
        "convention_df = st.SampleCorpora.ConventionData2012.get_data()"
      ],
      "execution_count": null,
      "outputs": []
    },
    {
      "cell_type": "markdown",
      "metadata": {
        "id": "lxTlMOt32oI0"
      },
      "source": [
        "**Lihat Data**"
      ]
    },
    {
      "cell_type": "code",
      "metadata": {
        "colab": {
          "base_uri": "https://localhost:8080/"
        },
        "id": "IdRmhFsNFlqY",
        "outputId": "d259e64b-98f2-4643-f64e-675803b7b1ca"
      },
      "source": [
        "convention_df\n",
        "\n",
        "#ention_df.tail(100)"
      ],
      "execution_count": null,
      "outputs": [
        {
          "output_type": "execute_result",
          "data": {
            "text/html": [
              "<div>\n",
              "<style scoped>\n",
              "    .dataframe tbody tr th:only-of-type {\n",
              "        vertical-align: middle;\n",
              "    }\n",
              "\n",
              "    .dataframe tbody tr th {\n",
              "        vertical-align: top;\n",
              "    }\n",
              "\n",
              "    .dataframe thead th {\n",
              "        text-align: right;\n",
              "    }\n",
              "</style>\n",
              "<table border=\"1\" class=\"dataframe\">\n",
              "  <thead>\n",
              "    <tr style=\"text-align: right;\">\n",
              "      <th></th>\n",
              "      <th>party</th>\n",
              "      <th>text</th>\n",
              "      <th>speaker</th>\n",
              "    </tr>\n",
              "  </thead>\n",
              "  <tbody>\n",
              "    <tr>\n",
              "      <th>0</th>\n",
              "      <td>democrat</td>\n",
              "      <td>Thank you. Thank you. Thank you. Thank you so ...</td>\n",
              "      <td>BARACK OBAMA</td>\n",
              "    </tr>\n",
              "    <tr>\n",
              "      <th>1</th>\n",
              "      <td>democrat</td>\n",
              "      <td>Thank you so much. Tonight, I am so thrilled a...</td>\n",
              "      <td>MICHELLE OBAMA</td>\n",
              "    </tr>\n",
              "    <tr>\n",
              "      <th>2</th>\n",
              "      <td>democrat</td>\n",
              "      <td>Thank you. It is a singular honor to be here t...</td>\n",
              "      <td>RICHARD DURBIN</td>\n",
              "    </tr>\n",
              "    <tr>\n",
              "      <th>3</th>\n",
              "      <td>democrat</td>\n",
              "      <td>Hey, Delaware. \\nAnd my favorite Democrat, Jil...</td>\n",
              "      <td>JOSEPH BIDEN</td>\n",
              "    </tr>\n",
              "    <tr>\n",
              "      <th>4</th>\n",
              "      <td>democrat</td>\n",
              "      <td>Hello. \\nThank you, Angie. I'm so proud of how...</td>\n",
              "      <td>JILL BIDEN</td>\n",
              "    </tr>\n",
              "    <tr>\n",
              "      <th>...</th>\n",
              "      <td>...</td>\n",
              "      <td>...</td>\n",
              "      <td>...</td>\n",
              "    </tr>\n",
              "    <tr>\n",
              "      <th>184</th>\n",
              "      <td>republican</td>\n",
              "      <td>As the elected leader of 250,000 College Repub...</td>\n",
              "      <td>ALEX SCHRIVER</td>\n",
              "    </tr>\n",
              "    <tr>\n",
              "      <th>185</th>\n",
              "      <td>republican</td>\n",
              "      <td>Good afternoon. I'm Pete Sessions, a congressm...</td>\n",
              "      <td>PETE SESSIONS</td>\n",
              "    </tr>\n",
              "    <tr>\n",
              "      <th>186</th>\n",
              "      <td>republican</td>\n",
              "      <td>To Chairman Priebus and to my fellow Americans...</td>\n",
              "      <td>BOB BUCKHORN</td>\n",
              "    </tr>\n",
              "    <tr>\n",
              "      <th>187</th>\n",
              "      <td>republican</td>\n",
              "      <td>\\nAbsolutely. Thank you, Mr.Chairman.\\nWelcome...</td>\n",
              "      <td>SHARON DAY</td>\n",
              "    </tr>\n",
              "    <tr>\n",
              "      <th>188</th>\n",
              "      <td>republican</td>\n",
              "      <td>I am thrilled to add Utah's voice in support f...</td>\n",
              "      <td>MIA LOVE</td>\n",
              "    </tr>\n",
              "  </tbody>\n",
              "</table>\n",
              "<p>189 rows × 3 columns</p>\n",
              "</div>"
            ],
            "text/plain": [
              "          party  ...         speaker\n",
              "0      democrat  ...    BARACK OBAMA\n",
              "1      democrat  ...  MICHELLE OBAMA\n",
              "2      democrat  ...  RICHARD DURBIN\n",
              "3      democrat  ...    JOSEPH BIDEN\n",
              "4      democrat  ...      JILL BIDEN\n",
              "..          ...  ...             ...\n",
              "184  republican  ...   ALEX SCHRIVER\n",
              "185  republican  ...   PETE SESSIONS\n",
              "186  republican  ...    BOB BUCKHORN\n",
              "187  republican  ...      SHARON DAY\n",
              "188  republican  ...        MIA LOVE\n",
              "\n",
              "[189 rows x 3 columns]"
            ]
          },
          "metadata": {},
          "execution_count": 5
        }
      ]
    },
    {
      "cell_type": "code",
      "metadata": {
        "colab": {
          "base_uri": "https://localhost:8080/"
        },
        "id": "5mdGtRMh5wdq",
        "outputId": "528bf93e-9fb1-40fb-b96d-00272c7e6320"
      },
      "source": [
        "convention_df.text[0]"
      ],
      "execution_count": null,
      "outputs": [
        {
          "output_type": "execute_result",
          "data": {
            "application/vnd.google.colaboratory.intrinsic+json": {
              "type": "string"
            },
            "text/plain": [
              "\"Thank you. Thank you. Thank you. Thank you so much.Thank you.Thank you so much. Thank you. Thank you very much, everybody. Thank you.\\nMichelle, I love you so much. \\nA few nights ago, everybody was reminded just what a lucky man I am. \\nMalia and Sasha, we are so proud of you. \\nAnd Joe Biden, thank you for being the very best vice president I could have ever hoped for — — and being a strong and loyal friend.\\nMadam Chairwoman, delegates, I accept your nomination for president of the United States. Now, the first time I addressed this convention, in 2004, I was a younger man — — a Senate candidate from Illinois who spoke about hope, not blind optimism, not wishful thinking but hope in the face of difficulty, hope in the face of uncertainty, that dogged faith in the future which has pushed this nation forward even when the odds are great, even when the road is long.\\nEight years later that hope has been tested by the cost of war, by one of the worst economic crises in history and by political gridlock that's left us wondering whether it's still even possible to tackle the challenges of our time. I know campaigns can seem small, even silly sometimes.\\nTrivial things become big distractions. Serious issues become sound bites. The truth gets buried under an avalanche of money and advertising. And if you're sick of hearing me approve this message, believe me, so am I. \\nBut when all is said and done, when you pick up that ballot to vote, you will face the clearest choice of any time in a generation. Over the next few years big decisions will be made in Washington on jobs, the economy, taxes and deficits, energy, education, war and peace — decisions that will have a huge impact on our lives and on our children's lives for decades to come.\\nAnd on every issue, the choice you face won't just be between two candidates or two parties. It will be a choice between two different paths for America, a choice between two fundamentally different visions for the future. Ours is a fight to restore the values that built the largest middle class and the strongest economy the world has ever known — — the values my grandfather defended as a soldier in Patton's army, the values that drove my grandmother to work on a bomber assembly line while he was gone. They knew they were part of something larger — a nation that triumphed over fascism and depression, a nation where the most innovative businesses turn out the world's best products, and everyone shared in that pride and success from the corner office to the factory floor.\\nMy grandparents were given the chance to go to college and buy their home — their own home and fulfill the basic bargain at the heart of America's story, the promise that hard work will pay off, that responsibility will be rewarded, that everyone gets a fair shot and everyone does their fair share and everyone plays by the same rules, from Main Street to Wall Street to Washington, D.C. \\nAnd I ran for president because I saw that basic bargain slipping away. I began my career helping people in the shadow of a shuttered steel mill at a time when too many good jobs were starting to move overseas. And by 2008 we had seen nearly a decade in which families struggled with costs that kept rising but paychecks that didn't, folks racking up more and more debt just to make the mortgage or pay tuition, put gas in the car or food on the table. And when the house of cards collapsed in the Great Recession, millions of innocent Americans lost their jobs, their homes, their life savings, a tragedy from which we're still fighting to recover.\\nNow, our friends down in Tampa at the Republican convention were more than happy to talk about everything they think is wrong with America. But they didn't have much to say about how they'd make it right. They want your vote, but they don't want you to know their plan. And that's because all they have to offer is the same prescriptions they've had for the last 30 years. Have a surplus? Try a tax cut. Deficit too high — try another.\\nFeel a cold coming on? Take two tax cuts, roll back some regulations, and call us in the morning. \\nNow, I've cut taxes for those who need it — — or help us compete with the scientists and engineers coming out of China. After all we've been through, I don't believe that rolling back regulations on Wall Street will help the small-businesswoman expand, or the laid-off construction worker keep his home.\\nWe have been there, we've tried that, and we're not going back. We are moving forward, America. \\nNow, I won't pretend the path I'm offering is quick or easy. I never have. You didn't elect me to tell you what you wanted to hear. You elected me to tell you the truth. \\nAnd the truth is, it will take more than a few years for us to solve challenges that have built up over decades. It'll require common effort, shared responsibility, and the kind of bold, persistent experimentation that Franklin Roosevelt pursued during the only crisis worse than this one. \\nAnd by the way, those of us who carry on his party's legacy should remember that not every problem can be remedied with another government program or dictate from Washington.\\nBut know this, America: Our problems can be solved. \\nI'm asking you to rally around a set of goals for your country, goals in manufacturing, energy, education, national security and the deficit, real, achievable plans that will lead to new jobs, more opportunity and rebuild this economy on a stronger foundation. That's what we can do in the next four years, and that is why I am running for a second term as president of the United States. \\nWe can choose a future where we export more products and outsource fewer jobs. After a decade that was defined by what we bought and borrowed, we're getting back to basics and doing what America's always done best. We are making things again. — because we work harder and smarter than anyone else.\\nAnd after a decade of decline, this country created over half a million manufacturing jobs in the last 2 1/2 years. And now you have a choice. We can give more tax breaks to corporations that shift jobs overseas —— or we can start rewarding companies that open new plants and train new workers and create new jobs here in the United States of America. You can choose that future.\\nYou can choose the path where we control more of our own energy. After 30 years of inaction, we raised fuel standards so that by the middle of the next decade, cars and trucks will go twice as far on a gallon of gas. \\nSo now you have a choice between a strategy that reverses this progress or one that builds on it.\\nWe've opened millions of new acres for oil and gas exploration in the last three years, and we'll open more. But unlike my opponent, I will not let oil companies write this country's energy plan or endanger our coastlines or collect another $4 billion in corporate welfare from our taxpayers. We're offering a better path.\\nWe're offering a better path where we — a future where we keep investing in wind and solar and clean coal, where farmers and scientists harness new biofuels to power our cars and trucks, where construction workers build homes and factories that waste less energy, where — where we develop a hundred-year supply of natural gas that's right beneath our feet. If you choose this path, we can cut our oil imports in half by 2020 and support more than 600,000 new jobs in natural gas alone. (Cheers, applause.\\nAnd yes, my plan will continue to reduce the carbon pollution that is heating our planet, because climate change is not a hoax. More droughts and floods and wildfires are not a joke. They are a threat to our children's future.\\nAnd in this election, you can do something about it. You can choose a future where more Americans have the chance to gain the skills they need to compete, no matter how old they are or how much money they have.\\nEducation was the gateway to opportunity for me. It was the gateway for Michelle. It was — it was the gateway for most of you. And now more than ever it is the gateway to a middle-class life.\\nFor the first time in a generation, nearly every state has answered our call to raise their standards for teaching and learning. \\nAnd now you have a choice. We can gut education, or we can decide that in the United States of America, no child should have her dreams deferred because of a crowded classroom or a crumbling school. No family should have to set aside a college acceptance letter because they don't have the money. \\nA government has a role in this. But teachers must inspire. Principals must lead. Parents must instill a thirst for learning. And students, you've got to do the work. \\nSo help me. Help me recruit a hundred thousand math and science teachers within 10 years and improve early childhood education. Help give 2 million workers the chance to learn skills at their community college that will lead directly to a job. Help us work with colleges and universities to cut in half the growth of tuition costs over the next 10 years.\\nWe can meet that goal together. That's our future.\\nYou know, in a world of new threats and new challenges, you can choose leadership that has been tested and proven. Four years ago I promised to end the war in Iraq. We did. \\nAnd tonight we pay tribute to the Americans who still serve in harm's way. We are forever in debt to a generation whose sacrifice has made this country safer and more respected. We will never forget you, and so long as I'm commander in chief, we will sustain the strongest military the world has ever known. When you take off the uniform, we will serve you as well as you've served us, because no one who fights for this country should have to fight for a job or a roof over their head or the care that they need when they come home.\\n\\nAround the world, we've strengthened old alliances and forged new coalitions to stop the spread of nuclear weapons. We've reasserted our power across the Pacific and stood up to China on behalf of our workers. From Burma to Libya to South Sudan, we have advanced the rights and dignity of all human beings — \\nBut for all the progress that we've made, challenges remain. Terrorist plots must be disrupted. Europe's crisis must be contained. Our commitment to Israel's security must not waver, and neither must our pursuit of peace. \\nSo now we have a choice. My opponent and his running mate are new to foreign policy. \\nBut from all that we've seen and heard, they want to take us back to an era of blustering and blundering that cost America so dearly.\\nAfter all, you don't call Russia our number one enemy — not al- Qaida, Russia — \\nYou might not be ready for diplomacy with Beijing if you can't visit the Olympics without insulting our closest ally.\\n\\nMy opponent — my opponent said that it was tragic to end the war in Iraq. And he won't tell us how he'll end the war in Afghanistan. Well, I have, and I will. \\nYou can choose a future where we reduce our deficit without sticking it to the middle class. \\nI want to reform the tax code so that it's simple, fair and asks the wealthiest households to pay higher taxes on incomes over $250,000 — — the same rate we had when Bill Clinton was president, the same rate we had when our economy created nearly 23 million new jobs, the biggest surplus in history and a whole lot of millionaires to boot.\\n\\nNow, I'm still eager to reach an agreement based on the principles of my bipartisan debt commission. No party has a monopoly on wisdom. No democracy works without compromise. I want to get this done, and we can get it done.\\nBut when Governor Romney and his friends in Congress tell us we can somehow lower our deficits by spending trillions more on new tax breaks for the wealthy, well — You do the math.\\nI refuse to go along with that, and as long as I'm president, I never will. \\nAnd I will never — I will never turn Medicare into a voucher. No American should ever have to spend their golden years at the mercy of insurance companies. They should retire with the care and the dignity that they have earned. Yes, we will reform and strengthen Medicare for the long haul, but we'll do it by reducing the cost of health care, not by asking seniors to pay thousands of dollars more.\\n\\nThis is the choice we now face. This is what the election comes down to. Over and over, we've been told by our opponents that bigger tax cuts and fewer regulations are the only way, that since government can't do everything, it should do almost nothing. If you can't afford health insurance, hope that you don't get sick. \\nYou know what, that's not who we are. That's not what this country is about. As Americans, we believe we are endowed by our Creator with certain inalienable rights, rights that no man or government can take away. We insist on personal responsibility, and we celebrate individual initiative. We're not entitled to success. We have to earn it. We honor the strivers, the dreamers, the risk- takers, the entrepreneurs who have always been the driving force behind our free enterprise system, the greatest engine of growth and prosperity that the world's ever known.\\nBut we also believe in something called citizenship — — citizenship, a word at the very heart of our founding, a word at the very essence of our democracy, the idea that this country only works when we accept certain obligations to one another and to future generations.\\nWe believe that when a CEO pays his autoworkers enough to buy the cars that they build, the whole company does better. \\nWe believe that when a family can no longer be tricked into signing a mortgage they can't afford, that family's protected, but so is the value of other people's homes — \\nWe believe the little girl who's offered an escape from poverty by a great teacher or a grant for college could become the next Steve Jobs or the scientist who cures cancer or the president of the United States — \\nWe know that churches and charities can often make more of a difference than a poverty program alone. We don't want handouts for people who refuse to help themselves, and we certainly don't want bailouts for banks that break the rules. \\nWe don't think the government can solve all of our problems, but we don't think the government is the source of all of our problems — — because — because America, we understand that this democracy is ours.\\nWe, the people — \\nAs citizens, we understand that America is not about what can be done for us. It's about what can be done by us, together — — through the hard and frustrating but necessary work of self-government. That's what we believe.\\nSo you see, the election four years ago wasn't about me. It was about you. \\nYou're the reason there's a little girl with a heart disorder in Phoenix who'll get the surgery she needs because an insurance company can't limit her coverage. You did that. \\nYou're the reason a young man in Colorado who never thought he'd be able to afford his dream of earning a medical degree is about to get that chance. You made that possible. \\nYou're the reason a young immigrant who grew up here and went to school here and pledged allegiance to our flag will no longer be deported from the only country she's ever called home — You did that.\\nIf you turn away now — if you turn away now, if you buy into the cynicism that the change we fought for isn't possible, well, change will not happen. If you give up on the idea that your voice can make a difference, then other voices will fill the void, the lobbyists and special interests, the people with the $10 million checks who are trying to buy this election and those who are trying to make it harder for you to vote, Washington politicians who want to decide who you can marry or control health care choices that women should be making for themselves. Only you can make sure that doesn't happen. Only you have the power to move us forward.\\nYou know, I recognize that times have changed since I first spoke to this convention. Times have changed, and so have I. I'm no longer just a candidate. I'm the president. \\nAnd — — and that's —And that — and that means I know what it means to send young Americans into battle, for I've held in my arms the mothers and fathers of those who didn't return.\\nI've shared the pain of families who've lost their homes, and the frustration of workers who've lost their jobs. If the critics are right that I've made all my decisions based on polls, then I must not be very good at reading them. \\nAnd while I'm proud of what we've achieved together — \\nBut as I stand here tonight, I have never been more hopeful about America. Not because I think I have all the answers. Not because I'm naive about the magnitude of our challenges.\\nI'm hopeful because of you.\\nThe young woman I met at a science fair who won national recognition for her biology research while living with her family at a homeless shelter — she gives me hope. \\nThe auto worker who won the lottery after his plant almost closed, but kept coming to work every day, and bought flags for his whole town and one of the cars that he built to surprise his wife — he gives me hope.\\n\\nThe family business in Warroad, Minnesota, that didn't lay off a single one of their 4,000 employees when the recession hit — \\nI think about the young sailor I met at Walter Reed Hospital still recovering from a grenade attack that would cause him to have his leg amputated above the knee. And six months ago we would watch him walk into a White House dinner honoring those who served in Iran He gives me hope.\\nI don't know what party these men and women belong to. I don't know if they'll vote for me. But I know that their spirit defines us. They remind me, in the words of Scripture, that ours is a future filled with hope. And if you share that faith with me, if you share that hope with me, I ask you tonight for your vote.\\n\\nIf you reject the notion that this nation's promise is reserved for the few, your voice must be heard in this election. \\nIf you reject the notion that our government is forever beholden to the highest bidder, you need to stand up in this election. \\nIf you believe that new plants and factories can dot our landscape, that new energy can power our future, that new schools can provide ladders of opportunity to this nation of dreamers, if you believe in a country where everyone gets a fair shot, and everyone does their fair share and everyone plays by the same rules, then I need you to vote this November. \\nAmerica, I never said this journey would be easy, and I won't promise that now. Yes, our path is harder, but it leads to a better place. \\nWe don't turn back. We leave no one behind. And we learn from our mistakes. But we keep our eyes fixed on that distant horizon knowing that providence is with us and that we are surely blessed to be citizens of the greatest nation on earth.\\nThank you, God bless you and God bless these United States. \""
            ]
          },
          "metadata": {},
          "execution_count": 6
        }
      ]
    },
    {
      "cell_type": "code",
      "metadata": {
        "colab": {
          "base_uri": "https://localhost:8080/"
        },
        "id": "4s8DsnKfeE-N",
        "outputId": "b2e58f0d-3527-4b1c-9c05-48e2c3719e01"
      },
      "source": [
        "convention_df.speaker[0]"
      ],
      "execution_count": null,
      "outputs": [
        {
          "output_type": "execute_result",
          "data": {
            "application/vnd.google.colaboratory.intrinsic+json": {
              "type": "string"
            },
            "text/plain": [
              "'BARACK OBAMA'"
            ]
          },
          "metadata": {},
          "execution_count": 7
        }
      ]
    },
    {
      "cell_type": "code",
      "metadata": {
        "colab": {
          "base_uri": "https://localhost:8080/"
        },
        "id": "GnEVwA2deqXh",
        "outputId": "7cba29d8-b7b2-44dd-eb65-a69450a6e9f5"
      },
      "source": [
        "convention_df.party"
      ],
      "execution_count": null,
      "outputs": [
        {
          "output_type": "execute_result",
          "data": {
            "text/plain": [
              "0        democrat\n",
              "1        democrat\n",
              "2        democrat\n",
              "3        democrat\n",
              "4        democrat\n",
              "          ...    \n",
              "184    republican\n",
              "185    republican\n",
              "186    republican\n",
              "187    republican\n",
              "188    republican\n",
              "Name: party, Length: 189, dtype: object"
            ]
          },
          "metadata": {},
          "execution_count": 8
        }
      ]
    },
    {
      "cell_type": "markdown",
      "metadata": {
        "id": "RU-Oy8UN3TF8"
      },
      "source": [
        "**Parse Speech text using Spacy**"
      ]
    },
    {
      "cell_type": "code",
      "metadata": {
        "id": "50tddnQVFp6g"
      },
      "source": [
        "convention_df['parsed'] = convention_df.text.apply(nlp)"
      ],
      "execution_count": null,
      "outputs": []
    },
    {
      "cell_type": "code",
      "metadata": {
        "colab": {
          "base_uri": "https://localhost:8080/"
        },
        "id": "Buu532f154UC",
        "outputId": "01679c25-2698-4812-bb9a-2a1609b5ac11"
      },
      "source": [
        "convention_df.head()"
      ],
      "execution_count": null,
      "outputs": [
        {
          "output_type": "execute_result",
          "data": {
            "text/html": [
              "<div>\n",
              "<style scoped>\n",
              "    .dataframe tbody tr th:only-of-type {\n",
              "        vertical-align: middle;\n",
              "    }\n",
              "\n",
              "    .dataframe tbody tr th {\n",
              "        vertical-align: top;\n",
              "    }\n",
              "\n",
              "    .dataframe thead th {\n",
              "        text-align: right;\n",
              "    }\n",
              "</style>\n",
              "<table border=\"1\" class=\"dataframe\">\n",
              "  <thead>\n",
              "    <tr style=\"text-align: right;\">\n",
              "      <th></th>\n",
              "      <th>party</th>\n",
              "      <th>text</th>\n",
              "      <th>speaker</th>\n",
              "      <th>parsed</th>\n",
              "    </tr>\n",
              "  </thead>\n",
              "  <tbody>\n",
              "    <tr>\n",
              "      <th>0</th>\n",
              "      <td>democrat</td>\n",
              "      <td>Thank you. Thank you. Thank you. Thank you so ...</td>\n",
              "      <td>BARACK OBAMA</td>\n",
              "      <td>(Thank, you, ., Thank, you, ., Thank, you, ., ...</td>\n",
              "    </tr>\n",
              "    <tr>\n",
              "      <th>1</th>\n",
              "      <td>democrat</td>\n",
              "      <td>Thank you so much. Tonight, I am so thrilled a...</td>\n",
              "      <td>MICHELLE OBAMA</td>\n",
              "      <td>(Thank, you, so, much, ., Tonight, ,, I, am, s...</td>\n",
              "    </tr>\n",
              "    <tr>\n",
              "      <th>2</th>\n",
              "      <td>democrat</td>\n",
              "      <td>Thank you. It is a singular honor to be here t...</td>\n",
              "      <td>RICHARD DURBIN</td>\n",
              "      <td>(Thank, you, ., It, is, a, singular, honor, to...</td>\n",
              "    </tr>\n",
              "    <tr>\n",
              "      <th>3</th>\n",
              "      <td>democrat</td>\n",
              "      <td>Hey, Delaware. \\nAnd my favorite Democrat, Jil...</td>\n",
              "      <td>JOSEPH BIDEN</td>\n",
              "      <td>(Hey, ,, Delaware, ., \\n, And, my, favorite, D...</td>\n",
              "    </tr>\n",
              "    <tr>\n",
              "      <th>4</th>\n",
              "      <td>democrat</td>\n",
              "      <td>Hello. \\nThank you, Angie. I'm so proud of how...</td>\n",
              "      <td>JILL BIDEN</td>\n",
              "      <td>(Hello, ., \\n, Thank, you, ,, Angie, ., I, 'm,...</td>\n",
              "    </tr>\n",
              "  </tbody>\n",
              "</table>\n",
              "</div>"
            ],
            "text/plain": [
              "      party  ...                                             parsed\n",
              "0  democrat  ...  (Thank, you, ., Thank, you, ., Thank, you, ., ...\n",
              "1  democrat  ...  (Thank, you, so, much, ., Tonight, ,, I, am, s...\n",
              "2  democrat  ...  (Thank, you, ., It, is, a, singular, honor, to...\n",
              "3  democrat  ...  (Hey, ,, Delaware, ., \\n, And, my, favorite, D...\n",
              "4  democrat  ...  (Hello, ., \\n, Thank, you, ,, Angie, ., I, 'm,...\n",
              "\n",
              "[5 rows x 4 columns]"
            ]
          },
          "metadata": {},
          "execution_count": 10
        }
      ]
    },
    {
      "cell_type": "markdown",
      "metadata": {
        "id": "-PQyCDaM3XLU"
      },
      "source": [
        "**Count of Democrats and Republican speakers**"
      ]
    },
    {
      "cell_type": "code",
      "metadata": {
        "colab": {
          "base_uri": "https://localhost:8080/"
        },
        "id": "lGmVnY8gGJJO",
        "outputId": "f93ee11c-ba90-429d-81e5-8aeffe053566"
      },
      "source": [
        "print(\"Document Count\")\n",
        "print(convention_df.groupby('party')['text'].count())\n",
        "print(\"Word Count\")\n",
        "convention_df.groupby('party').apply(lambda x: x.text.apply(lambda x: len(x.split())).sum())"
      ],
      "execution_count": null,
      "outputs": [
        {
          "output_type": "stream",
          "name": "stdout",
          "text": [
            "Document Count\n",
            "party\n",
            "democrat      123\n",
            "republican     66\n",
            "Name: text, dtype: int64\n",
            "Word Count\n"
          ]
        },
        {
          "output_type": "execute_result",
          "data": {
            "text/plain": [
              "party\n",
              "democrat      76840\n",
              "republican    58144\n",
              "dtype: int64"
            ]
          },
          "metadata": {},
          "execution_count": 11
        }
      ]
    },
    {
      "cell_type": "markdown",
      "metadata": {
        "id": "NZ5ygxhP3bch"
      },
      "source": [
        "**Convert Dataframe into Scattertext Corpus**"
      ]
    },
    {
      "cell_type": "code",
      "metadata": {
        "id": "0_1xUiDqGRpW"
      },
      "source": [
        "corpus = st.CorpusFromParsedDocuments(convention_df, category_col='party', parsed_col='parsed').build()"
      ],
      "execution_count": null,
      "outputs": []
    },
    {
      "cell_type": "markdown",
      "metadata": {
        "id": "LXaBt1rW3e_T"
      },
      "source": [
        "**Visualize Chart**"
      ]
    },
    {
      "cell_type": "markdown",
      "metadata": {
        "id": "GbEleNvy3j6Q"
      },
      "source": [
        "This shows the Top 10 most frequent used words by Republican and Democrats candidates and how frequently each words are used per 25k words and what’s it’s tf-idf score"
      ]
    },
    {
      "cell_type": "code",
      "metadata": {
        "colab": {
          "base_uri": "https://localhost:8080/",
          "height": 721
        },
        "id": "bzXZd-DCGWrZ",
        "outputId": "c25c9f06-a3dd-4973-b59f-f2e3c779dd66"
      },
      "source": [
        "html = produce_scattertext_explorer(corpus,category='democrat',category_name='Democratic', not_category_name='Republican',width_in_pixels=1000, minimum_term_frequency=5, metadata=convention_df['speaker'])\n",
        "file_name = 'Conventions2012ScattertextScale.html'\n",
        "open(file_name, 'wb').write(html.encode('utf-8'))\n",
        "IFrame(src=file_name, width = 1200, height=700)"
      ],
      "execution_count": null,
      "outputs": [
        {
          "output_type": "execute_result",
          "data": {
            "text/html": [
              "\n",
              "        <iframe\n",
              "            width=\"1200\"\n",
              "            height=\"700\"\n",
              "            src=\"Conventions2012ScattertextScale.html\"\n",
              "            frameborder=\"0\"\n",
              "            allowfullscreen\n",
              "        ></iframe>\n",
              "        "
            ],
            "text/plain": [
              "<IPython.lib.display.IFrame at 0x7f6498095110>"
            ]
          },
          "metadata": {},
          "execution_count": 13
        }
      ]
    },
    {
      "cell_type": "markdown",
      "metadata": {
        "id": "5pcQsFa73lIe"
      },
      "source": [
        "This shows the chracteristic terms used by candidates from both parties and which is more informative compared to the graph above"
      ]
    },
    {
      "cell_type": "code",
      "metadata": {
        "id": "YUbIxnHIHO5E",
        "colab": {
          "base_uri": "https://localhost:8080/",
          "height": 721
        },
        "outputId": "b640e563-8538-4c8d-991a-a667baad9431"
      },
      "source": [
        "html = st.produce_scattertext_explorer(corpus,\n",
        "                                       category='democrat',\n",
        "                                       category_name='Democratic',\n",
        "                                       not_category_name='Republican',\n",
        "                                       minimum_term_frequency=5,\n",
        "                                       width_in_pixels=1000,\n",
        "                                       transform=st.Scalers.log_scale_standardize)\n",
        "file_name = 'Conventions2012ScattertextLog.html'\n",
        "open(file_name, 'wb').write(html.encode('utf-8'))\n",
        "IFrame(src=file_name, width = 1200, height=700)"
      ],
      "execution_count": null,
      "outputs": [
        {
          "output_type": "execute_result",
          "data": {
            "text/html": [
              "\n",
              "        <iframe\n",
              "            width=\"1200\"\n",
              "            height=\"700\"\n",
              "            src=\"Conventions2012ScattertextLog.html\"\n",
              "            frameborder=\"0\"\n",
              "            allowfullscreen\n",
              "        ></iframe>\n",
              "        "
            ],
            "text/plain": [
              "<IPython.lib.display.IFrame at 0x7f6497f8f6d0>"
            ]
          },
          "metadata": {},
          "execution_count": 14
        }
      ]
    },
    {
      "cell_type": "markdown",
      "metadata": {
        "id": "MY2D76kk3qiT"
      },
      "source": [
        "The follow visuals ranks each term by frequency percentile instead of raw frequencies"
      ]
    },
    {
      "cell_type": "code",
      "metadata": {
        "id": "gCo59Ci_HjHw",
        "colab": {
          "base_uri": "https://localhost:8080/",
          "height": 721
        },
        "outputId": "dd62427a-9e3c-498b-a1da-b5516a7bf01c"
      },
      "source": [
        "html = produce_scattertext_explorer(corpus,\n",
        "                                    category='democrat',\n",
        "                                    category_name='Democratic',\n",
        "                                    not_category_name='Republican',\n",
        "                                    width_in_pixels=1000,\n",
        "                                    minimum_term_frequency=5,\n",
        "                                    transform=st.Scalers.percentile,\n",
        "                                    metadata=convention_df['speaker'])\n",
        "file_name = 'Conventions2012ScattertextRankData.html'\n",
        "open(file_name, 'wb').write(html.encode('utf-8'))\n",
        "IFrame(src=file_name, width = 1200, height=700)"
      ],
      "execution_count": null,
      "outputs": [
        {
          "output_type": "execute_result",
          "data": {
            "text/html": [
              "\n",
              "        <iframe\n",
              "            width=\"1200\"\n",
              "            height=\"700\"\n",
              "            src=\"Conventions2012ScattertextRankData.html\"\n",
              "            frameborder=\"0\"\n",
              "            allowfullscreen\n",
              "        ></iframe>\n",
              "        "
            ],
            "text/plain": [
              "<IPython.lib.display.IFrame at 0x7f6498069610>"
            ]
          },
          "metadata": {},
          "execution_count": 15
        }
      ]
    },
    {
      "cell_type": "markdown",
      "metadata": {
        "id": "p8wQ-IRh_n85"
      },
      "source": [
        "Mahasiswa dalam kelompok ditugaskan dalam membuat data dalam text seperti:\n",
        "1. Data Review Film\n",
        "2. Data Review Makanan (bisa Indonesia, Korea)\n",
        "3. Data Review Buku\n",
        "4. Data Berita Spesifik (misal berita Covid dll)\n",
        "\n",
        "Data dibuat atau disajikan dalam bentuk Tabel. Data dapat diperoleh dari website langsung (lakukan pre-processing) atau direct observation (copypaste).\n",
        "Data yang didapatkan dibuat visualisasinya menggaunakan word cloud dan scatter text.\n",
        "\n",
        "Buat laporan sederhana (Template akan disediakan) yang dikumpul dalam LMS.\n",
        "Deadline Pengerjaan Maksimal **9 November 2021**\n",
        "\n",
        "Minimal 100\n",
        "B.Ing"
      ]
    }
  ]
}