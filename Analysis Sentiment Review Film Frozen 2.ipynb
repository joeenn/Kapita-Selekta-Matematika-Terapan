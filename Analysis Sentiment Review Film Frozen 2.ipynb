{
  "nbformat": 4,
  "nbformat_minor": 0,
  "metadata": {
    "colab": {
      "name": "UTS",
      "provenance": [],
      "include_colab_link": true
    },
    "kernelspec": {
      "name": "python3",
      "display_name": "Python 3"
    },
    "language_info": {
      "name": "python"
    }
  },
  "cells": [
    {
      "cell_type": "markdown",
      "metadata": {
        "id": "view-in-github",
        "colab_type": "text"
      },
      "source": [
        "<a href=\"https://colab.research.google.com/github/joeenn/Kapita-Selekta-Matematika-Terapan/blob/main/Analysis%20Sentiment%20Review%20Film%20Frozen%202.ipynb\" target=\"_parent\"><img src=\"https://colab.research.google.com/assets/colab-badge.svg\" alt=\"Open In Colab\"/></a>"
      ]
    },
    {
      "cell_type": "code",
      "metadata": {
        "colab": {
          "base_uri": "https://localhost:8080/"
        },
        "id": "YBsgUnKBa4DZ",
        "outputId": "59efb739-176d-4eb4-b331-3088d570771e"
      },
      "source": [
        "!pip install requests\n",
        "!pip install scattertext"
      ],
      "execution_count": null,
      "outputs": [
        {
          "output_type": "stream",
          "name": "stdout",
          "text": [
            "Requirement already satisfied: requests in /usr/local/lib/python3.7/dist-packages (2.23.0)\n",
            "Requirement already satisfied: idna<3,>=2.5 in /usr/local/lib/python3.7/dist-packages (from requests) (2.10)\n",
            "Requirement already satisfied: chardet<4,>=3.0.2 in /usr/local/lib/python3.7/dist-packages (from requests) (3.0.4)\n",
            "Requirement already satisfied: certifi>=2017.4.17 in /usr/local/lib/python3.7/dist-packages (from requests) (2021.5.30)\n",
            "Requirement already satisfied: urllib3!=1.25.0,!=1.25.1,<1.26,>=1.21.1 in /usr/local/lib/python3.7/dist-packages (from requests) (1.24.3)\n",
            "Collecting scattertext\n",
            "  Downloading scattertext-0.1.4-py3-none-any.whl (7.3 MB)\n",
            "\u001b[K     |████████████████████████████████| 7.3 MB 4.6 MB/s \n",
            "\u001b[?25hRequirement already satisfied: scipy in /usr/local/lib/python3.7/dist-packages (from scattertext) (1.4.1)\n",
            "Requirement already satisfied: statsmodels in /usr/local/lib/python3.7/dist-packages (from scattertext) (0.10.2)\n",
            "Requirement already satisfied: pandas in /usr/local/lib/python3.7/dist-packages (from scattertext) (1.1.5)\n",
            "Collecting flashtext\n",
            "  Downloading flashtext-2.7.tar.gz (14 kB)\n",
            "Requirement already satisfied: scikit-learn in /usr/local/lib/python3.7/dist-packages (from scattertext) (0.22.2.post1)\n",
            "Requirement already satisfied: numpy in /usr/local/lib/python3.7/dist-packages (from scattertext) (1.19.5)\n",
            "Collecting gensim>=4.0.0\n",
            "  Downloading gensim-4.1.2-cp37-cp37m-manylinux_2_12_x86_64.manylinux2010_x86_64.whl (24.1 MB)\n",
            "\u001b[K     |████████████████████████████████| 24.1 MB 2.7 kB/s \n",
            "\u001b[?25hCollecting mock\n",
            "  Downloading mock-4.0.3-py3-none-any.whl (28 kB)\n",
            "Requirement already satisfied: six in /usr/local/lib/python3.7/dist-packages (from scattertext) (1.15.0)\n",
            "Requirement already satisfied: smart-open>=1.8.1 in /usr/local/lib/python3.7/dist-packages (from gensim>=4.0.0->scattertext) (5.2.1)\n",
            "Requirement already satisfied: pytz>=2017.2 in /usr/local/lib/python3.7/dist-packages (from pandas->scattertext) (2018.9)\n",
            "Requirement already satisfied: python-dateutil>=2.7.3 in /usr/local/lib/python3.7/dist-packages (from pandas->scattertext) (2.8.2)\n",
            "Requirement already satisfied: joblib>=0.11 in /usr/local/lib/python3.7/dist-packages (from scikit-learn->scattertext) (1.0.1)\n",
            "Requirement already satisfied: patsy>=0.4.0 in /usr/local/lib/python3.7/dist-packages (from statsmodels->scattertext) (0.5.2)\n",
            "Building wheels for collected packages: flashtext\n",
            "  Building wheel for flashtext (setup.py) ... \u001b[?25l\u001b[?25hdone\n",
            "  Created wheel for flashtext: filename=flashtext-2.7-py2.py3-none-any.whl size=9310 sha256=30579f21d69ce4b689bddb7080aaabe44a83e3ac0ba201b9f326b98168847b1f\n",
            "  Stored in directory: /root/.cache/pip/wheels/cb/19/58/4e8fdd0009a7f89dbce3c18fff2e0d0fa201d5cdfd16f113b7\n",
            "Successfully built flashtext\n",
            "Installing collected packages: mock, gensim, flashtext, scattertext\n",
            "  Attempting uninstall: gensim\n",
            "    Found existing installation: gensim 3.6.0\n",
            "    Uninstalling gensim-3.6.0:\n",
            "      Successfully uninstalled gensim-3.6.0\n",
            "Successfully installed flashtext-2.7 gensim-4.1.2 mock-4.0.3 scattertext-0.1.4\n"
          ]
        }
      ]
    },
    {
      "cell_type": "code",
      "metadata": {
        "colab": {
          "base_uri": "https://localhost:8080/",
          "height": 17
        },
        "id": "OCcmfpbYbqPt",
        "outputId": "3d922eaf-5992-414c-8ef0-5b3d9d7be248"
      },
      "source": [
        "from bs4 import BeautifulSoup\n",
        "import requests\n",
        "\n",
        "%matplotlib inline\n",
        "import scattertext as st\n",
        "import re, io\n",
        "from pprint import pprint\n",
        "import pandas as pd\n",
        "import numpy as np\n",
        "from scipy.stats import rankdata, hmean, norm\n",
        "import spacy\n",
        "import os, pkgutil, json, urllib\n",
        "from urllib.request import urlopen\n",
        "from IPython.display import IFrame\n",
        "from IPython.core.display import display, HTML\n",
        "from scattertext import CorpusFromPandas, produce_scattertext_explorer\n",
        "display(HTML(\"<style>.container { width:98% !important; }</style>\"))"
      ],
      "execution_count": null,
      "outputs": [
        {
          "output_type": "display_data",
          "data": {
            "text/html": [
              "<style>.container { width:98% !important; }</style>"
            ],
            "text/plain": [
              "<IPython.core.display.HTML object>"
            ]
          },
          "metadata": {}
        }
      ]
    },
    {
      "cell_type": "code",
      "metadata": {
        "id": "PVTOMx9-dVz5"
      },
      "source": [
        "import spacy\n",
        "nlp = spacy.load('en')"
      ],
      "execution_count": null,
      "outputs": []
    },
    {
      "cell_type": "code",
      "metadata": {
        "id": "UIhaYglUafYZ"
      },
      "source": [
        "page_urls = ['https://www.rottentomatoes.com/m/real_steel/reviews',\n",
        "             'https://www.rottentomatoes.com/m/real_steel/reviews?type=&sort=&page=2',\n",
        "             'https://www.rottentomatoes.com/m/real_steel/reviews?type=&sort=&page=3',\n",
        "             'https://www.rottentomatoes.com/m/real_steel/reviews?type=&sort=&page=4',\n",
        "             'https://www.rottentomatoes.com/m/real_steel/reviews?type=&sort=&page=5',\n",
        "             'https://www.rottentomatoes.com/m/real_steel/reviews?type=&sort=&page=6',\n",
        "             'https://www.rottentomatoes.com/m/real_steel/reviews?type=&sort=&page=7',\n",
        "             'https://www.rottentomatoes.com/m/real_steel/reviews?type=&sort=&page=8',]"
      ],
      "execution_count": null,
      "outputs": []
    },
    {
      "cell_type": "code",
      "metadata": {
        "id": "V4LNEmN1ak_G",
        "colab": {
          "base_uri": "https://localhost:8080/",
          "height": 231
        },
        "outputId": "cf5785f8-cd02-489f-9380-a13bff73f586"
      },
      "source": [
        "reviews = []\n",
        "tomato = []\n",
        "\n",
        "#iterate through each url in the list.\n",
        "for url in page_urls:\n",
        "    response = requests.get(url)\n",
        "    #check whether the response code is not 200. It means there is error in server response\n",
        "    if response.status_code != 200:\n",
        "        continue\n",
        "    #if the response is 200, we can continue with scrapping the content of the response.\n",
        "    else:\n",
        "        html_code = response.content\n",
        "        #choose 'lxml' as the parser for the application as it more efficient than other parsers.\n",
        "        soup = BeautifulSoup(html_code, 'lxml')\n",
        "        #find the html tag with review table as the class.\n",
        "        review_table = soup.find('div',{'class':'review_table'})\n",
        "        #iterate through every rows in the review table in the current page.\n",
        "        for i in review_table.find_all('div',{'class':'critic__review-quote'}):\n",
        "            #append the review in the list.\n",
        "            reviews.append(i.get_text(strip=True))\n",
        "        #iterate through every rows inorder to find the tomato.\n",
        "        for j in review_table.find_all('div',{'class':'col-xs-16 review_container'}):\n",
        "            a=j.find('div',{'class':'review_icon icon small fresh'}) or j.find('div',{'class':'review_icon icon small rotten'})\n",
        "            #append the type in the list.\n",
        "            tomato.append(a.attrs['class'][-1])"
      ],
      "execution_count": null,
      "outputs": [
        {
          "output_type": "error",
          "ename": "AttributeError",
          "evalue": "ignored",
          "traceback": [
            "\u001b[0;31m---------------------------------------------------------------------------\u001b[0m",
            "\u001b[0;31mAttributeError\u001b[0m                            Traceback (most recent call last)",
            "\u001b[0;32m<ipython-input-5-aa60c61eeaad>\u001b[0m in \u001b[0;36m<module>\u001b[0;34m()\u001b[0m\n\u001b[1;32m     16\u001b[0m         \u001b[0mreview_table\u001b[0m \u001b[0;34m=\u001b[0m \u001b[0msoup\u001b[0m\u001b[0;34m.\u001b[0m\u001b[0mfind\u001b[0m\u001b[0;34m(\u001b[0m\u001b[0;34m'div'\u001b[0m\u001b[0;34m,\u001b[0m\u001b[0;34m{\u001b[0m\u001b[0;34m'class'\u001b[0m\u001b[0;34m:\u001b[0m\u001b[0;34m'review_table'\u001b[0m\u001b[0;34m}\u001b[0m\u001b[0;34m)\u001b[0m\u001b[0;34m\u001b[0m\u001b[0;34m\u001b[0m\u001b[0m\n\u001b[1;32m     17\u001b[0m         \u001b[0;31m#iterate through every rows in the review table in the current page.\u001b[0m\u001b[0;34m\u001b[0m\u001b[0;34m\u001b[0m\u001b[0;34m\u001b[0m\u001b[0m\n\u001b[0;32m---> 18\u001b[0;31m         \u001b[0;32mfor\u001b[0m \u001b[0mi\u001b[0m \u001b[0;32min\u001b[0m \u001b[0mreview_table\u001b[0m\u001b[0;34m.\u001b[0m\u001b[0mfind_all\u001b[0m\u001b[0;34m(\u001b[0m\u001b[0;34m'div'\u001b[0m\u001b[0;34m,\u001b[0m\u001b[0;34m{\u001b[0m\u001b[0;34m'class'\u001b[0m\u001b[0;34m:\u001b[0m\u001b[0;34m'critic__review-quote'\u001b[0m\u001b[0;34m}\u001b[0m\u001b[0;34m)\u001b[0m\u001b[0;34m:\u001b[0m\u001b[0;34m\u001b[0m\u001b[0;34m\u001b[0m\u001b[0m\n\u001b[0m\u001b[1;32m     19\u001b[0m             \u001b[0;31m#append the review in the list.\u001b[0m\u001b[0;34m\u001b[0m\u001b[0;34m\u001b[0m\u001b[0;34m\u001b[0m\u001b[0m\n\u001b[1;32m     20\u001b[0m             \u001b[0mreviews\u001b[0m\u001b[0;34m.\u001b[0m\u001b[0mappend\u001b[0m\u001b[0;34m(\u001b[0m\u001b[0mi\u001b[0m\u001b[0;34m.\u001b[0m\u001b[0mget_text\u001b[0m\u001b[0;34m(\u001b[0m\u001b[0mstrip\u001b[0m\u001b[0;34m=\u001b[0m\u001b[0;32mTrue\u001b[0m\u001b[0;34m)\u001b[0m\u001b[0;34m)\u001b[0m\u001b[0;34m\u001b[0m\u001b[0;34m\u001b[0m\u001b[0m\n",
            "\u001b[0;31mAttributeError\u001b[0m: 'NoneType' object has no attribute 'find_all'"
          ]
        }
      ]
    },
    {
      "cell_type": "code",
      "metadata": {
        "id": "Odm8czznar-l"
      },
      "source": [
        "import pandas as pd"
      ],
      "execution_count": null,
      "outputs": []
    },
    {
      "cell_type": "code",
      "metadata": {
        "id": "MddRdBfibSSd"
      },
      "source": [
        "reviews = pd.DataFrame(zip(reviews,tomato), columns=['Critics','Rotten_Fresh'])"
      ],
      "execution_count": null,
      "outputs": []
    },
    {
      "cell_type": "code",
      "metadata": {
        "colab": {
          "base_uri": "https://localhost:8080/",
          "height": 419
        },
        "id": "YZgPRpLKbT8X",
        "outputId": "887eb190-a884-4921-cf20-de6312a6bcec"
      },
      "source": [
        "reviews"
      ],
      "execution_count": null,
      "outputs": [
        {
          "output_type": "execute_result",
          "data": {
            "text/html": [
              "<div>\n",
              "<style scoped>\n",
              "    .dataframe tbody tr th:only-of-type {\n",
              "        vertical-align: middle;\n",
              "    }\n",
              "\n",
              "    .dataframe tbody tr th {\n",
              "        vertical-align: top;\n",
              "    }\n",
              "\n",
              "    .dataframe thead th {\n",
              "        text-align: right;\n",
              "    }\n",
              "</style>\n",
              "<table border=\"1\" class=\"dataframe\">\n",
              "  <thead>\n",
              "    <tr style=\"text-align: right;\">\n",
              "      <th></th>\n",
              "      <th>Critics</th>\n",
              "      <th>Rotten_Fresh</th>\n",
              "    </tr>\n",
              "  </thead>\n",
              "  <tbody>\n",
              "    <tr>\n",
              "      <th>0</th>\n",
              "      <td>The end of Stranger Things S2 slays whatever e...</td>\n",
              "      <td>fresh</td>\n",
              "    </tr>\n",
              "    <tr>\n",
              "      <th>1</th>\n",
              "      <td>This was a near perfect season and Stranger Th...</td>\n",
              "      <td>fresh</td>\n",
              "    </tr>\n",
              "    <tr>\n",
              "      <th>2</th>\n",
              "      <td>What this season does so well really is that i...</td>\n",
              "      <td>fresh</td>\n",
              "    </tr>\n",
              "    <tr>\n",
              "      <th>3</th>\n",
              "      <td>The women are complex and well-rounded but the...</td>\n",
              "      <td>fresh</td>\n",
              "    </tr>\n",
              "    <tr>\n",
              "      <th>4</th>\n",
              "      <td>Another compelling season with a story that is...</td>\n",
              "      <td>fresh</td>\n",
              "    </tr>\n",
              "    <tr>\n",
              "      <th>...</th>\n",
              "      <td>...</td>\n",
              "      <td>...</td>\n",
              "    </tr>\n",
              "    <tr>\n",
              "      <th>145</th>\n",
              "      <td>The show's core cast remains an extremely vers...</td>\n",
              "      <td>fresh</td>\n",
              "    </tr>\n",
              "    <tr>\n",
              "      <th>146</th>\n",
              "      <td>Stranger Things 2 is quite good and, if your e...</td>\n",
              "      <td>fresh</td>\n",
              "    </tr>\n",
              "    <tr>\n",
              "      <th>147</th>\n",
              "      <td>Stranger Things may still be strange, but it's...</td>\n",
              "      <td>fresh</td>\n",
              "    </tr>\n",
              "    <tr>\n",
              "      <th>148</th>\n",
              "      <td>A show that was primarily influenced by the St...</td>\n",
              "      <td>fresh</td>\n",
              "    </tr>\n",
              "    <tr>\n",
              "      <th>149</th>\n",
              "      <td>The growth is noticeable in how Eleven is hand...</td>\n",
              "      <td>fresh</td>\n",
              "    </tr>\n",
              "  </tbody>\n",
              "</table>\n",
              "<p>150 rows × 2 columns</p>\n",
              "</div>"
            ],
            "text/plain": [
              "                                               Critics Rotten_Fresh\n",
              "0    The end of Stranger Things S2 slays whatever e...        fresh\n",
              "1    This was a near perfect season and Stranger Th...        fresh\n",
              "2    What this season does so well really is that i...        fresh\n",
              "3    The women are complex and well-rounded but the...        fresh\n",
              "4    Another compelling season with a story that is...        fresh\n",
              "..                                                 ...          ...\n",
              "145  The show's core cast remains an extremely vers...        fresh\n",
              "146  Stranger Things 2 is quite good and, if your e...        fresh\n",
              "147  Stranger Things may still be strange, but it's...        fresh\n",
              "148  A show that was primarily influenced by the St...        fresh\n",
              "149  The growth is noticeable in how Eleven is hand...        fresh\n",
              "\n",
              "[150 rows x 2 columns]"
            ]
          },
          "metadata": {},
          "execution_count": 8
        }
      ]
    },
    {
      "cell_type": "code",
      "metadata": {
        "colab": {
          "base_uri": "https://localhost:8080/",
          "height": 35
        },
        "id": "jMKTXC_8c4Nl",
        "outputId": "bf35a06c-0543-4512-e1f9-bc4b63af3bff"
      },
      "source": [
        "reviews.Critics[0]"
      ],
      "execution_count": null,
      "outputs": [
        {
          "output_type": "execute_result",
          "data": {
            "application/vnd.google.colaboratory.intrinsic+json": {
              "type": "string"
            },
            "text/plain": [
              "'The end of Stranger Things S2 slays whatever early-season nitpicks existed.'"
            ]
          },
          "metadata": {},
          "execution_count": 9
        }
      ]
    },
    {
      "cell_type": "code",
      "metadata": {
        "colab": {
          "base_uri": "https://localhost:8080/"
        },
        "id": "4VqM6TUVeg2Z",
        "outputId": "46a5b740-4a88-41a1-d235-ed66dbb6d69b"
      },
      "source": [
        "reviews.Rotten_Fresh"
      ],
      "execution_count": null,
      "outputs": [
        {
          "output_type": "execute_result",
          "data": {
            "text/plain": [
              "0      fresh\n",
              "1      fresh\n",
              "2      fresh\n",
              "3      fresh\n",
              "4      fresh\n",
              "       ...  \n",
              "145    fresh\n",
              "146    fresh\n",
              "147    fresh\n",
              "148    fresh\n",
              "149    fresh\n",
              "Name: Rotten_Fresh, Length: 150, dtype: object"
            ]
          },
          "metadata": {},
          "execution_count": 10
        }
      ]
    },
    {
      "cell_type": "code",
      "metadata": {
        "id": "efQrVP07daYW"
      },
      "source": [
        "reviews['parsed'] = reviews.Critics.apply(nlp)"
      ],
      "execution_count": null,
      "outputs": []
    },
    {
      "cell_type": "code",
      "metadata": {
        "colab": {
          "base_uri": "https://localhost:8080/",
          "height": 419
        },
        "id": "fKQ3H2ePh5UF",
        "outputId": "09170fd8-5fea-4b17-d32d-dee6bf46afb8"
      },
      "source": [
        "reviews"
      ],
      "execution_count": null,
      "outputs": [
        {
          "output_type": "execute_result",
          "data": {
            "text/html": [
              "<div>\n",
              "<style scoped>\n",
              "    .dataframe tbody tr th:only-of-type {\n",
              "        vertical-align: middle;\n",
              "    }\n",
              "\n",
              "    .dataframe tbody tr th {\n",
              "        vertical-align: top;\n",
              "    }\n",
              "\n",
              "    .dataframe thead th {\n",
              "        text-align: right;\n",
              "    }\n",
              "</style>\n",
              "<table border=\"1\" class=\"dataframe\">\n",
              "  <thead>\n",
              "    <tr style=\"text-align: right;\">\n",
              "      <th></th>\n",
              "      <th>Critics</th>\n",
              "      <th>Rotten_Fresh</th>\n",
              "      <th>parsed</th>\n",
              "    </tr>\n",
              "  </thead>\n",
              "  <tbody>\n",
              "    <tr>\n",
              "      <th>0</th>\n",
              "      <td>The end of Stranger Things S2 slays whatever e...</td>\n",
              "      <td>fresh</td>\n",
              "      <td>(The, end, of, Stranger, Things, S2, slays, wh...</td>\n",
              "    </tr>\n",
              "    <tr>\n",
              "      <th>1</th>\n",
              "      <td>This was a near perfect season and Stranger Th...</td>\n",
              "      <td>fresh</td>\n",
              "      <td>(This, was, a, near, perfect, season, and, Str...</td>\n",
              "    </tr>\n",
              "    <tr>\n",
              "      <th>2</th>\n",
              "      <td>What this season does so well really is that i...</td>\n",
              "      <td>fresh</td>\n",
              "      <td>(What, this, season, does, so, well, really, i...</td>\n",
              "    </tr>\n",
              "    <tr>\n",
              "      <th>3</th>\n",
              "      <td>The women are complex and well-rounded but the...</td>\n",
              "      <td>fresh</td>\n",
              "      <td>(The, women, are, complex, and, well, -, round...</td>\n",
              "    </tr>\n",
              "    <tr>\n",
              "      <th>4</th>\n",
              "      <td>Another compelling season with a story that is...</td>\n",
              "      <td>fresh</td>\n",
              "      <td>(Another, compelling, season, with, a, story, ...</td>\n",
              "    </tr>\n",
              "    <tr>\n",
              "      <th>...</th>\n",
              "      <td>...</td>\n",
              "      <td>...</td>\n",
              "      <td>...</td>\n",
              "    </tr>\n",
              "    <tr>\n",
              "      <th>145</th>\n",
              "      <td>The show's core cast remains an extremely vers...</td>\n",
              "      <td>fresh</td>\n",
              "      <td>(The, show, 's, core, cast, remains, an, extre...</td>\n",
              "    </tr>\n",
              "    <tr>\n",
              "      <th>146</th>\n",
              "      <td>Stranger Things 2 is quite good and, if your e...</td>\n",
              "      <td>fresh</td>\n",
              "      <td>(Stranger, Things, 2, is, quite, good, and, ,,...</td>\n",
              "    </tr>\n",
              "    <tr>\n",
              "      <th>147</th>\n",
              "      <td>Stranger Things may still be strange, but it's...</td>\n",
              "      <td>fresh</td>\n",
              "      <td>(Stranger, Things, may, still, be, strange, ,,...</td>\n",
              "    </tr>\n",
              "    <tr>\n",
              "      <th>148</th>\n",
              "      <td>A show that was primarily influenced by the St...</td>\n",
              "      <td>fresh</td>\n",
              "      <td>(A, show, that, was, primarily, influenced, by...</td>\n",
              "    </tr>\n",
              "    <tr>\n",
              "      <th>149</th>\n",
              "      <td>The growth is noticeable in how Eleven is hand...</td>\n",
              "      <td>fresh</td>\n",
              "      <td>(The, growth, is, noticeable, in, how, Eleven,...</td>\n",
              "    </tr>\n",
              "  </tbody>\n",
              "</table>\n",
              "<p>150 rows × 3 columns</p>\n",
              "</div>"
            ],
            "text/plain": [
              "                                               Critics  ...                                             parsed\n",
              "0    The end of Stranger Things S2 slays whatever e...  ...  (The, end, of, Stranger, Things, S2, slays, wh...\n",
              "1    This was a near perfect season and Stranger Th...  ...  (This, was, a, near, perfect, season, and, Str...\n",
              "2    What this season does so well really is that i...  ...  (What, this, season, does, so, well, really, i...\n",
              "3    The women are complex and well-rounded but the...  ...  (The, women, are, complex, and, well, -, round...\n",
              "4    Another compelling season with a story that is...  ...  (Another, compelling, season, with, a, story, ...\n",
              "..                                                 ...  ...                                                ...\n",
              "145  The show's core cast remains an extremely vers...  ...  (The, show, 's, core, cast, remains, an, extre...\n",
              "146  Stranger Things 2 is quite good and, if your e...  ...  (Stranger, Things, 2, is, quite, good, and, ,,...\n",
              "147  Stranger Things may still be strange, but it's...  ...  (Stranger, Things, may, still, be, strange, ,,...\n",
              "148  A show that was primarily influenced by the St...  ...  (A, show, that, was, primarily, influenced, by...\n",
              "149  The growth is noticeable in how Eleven is hand...  ...  (The, growth, is, noticeable, in, how, Eleven,...\n",
              "\n",
              "[150 rows x 3 columns]"
            ]
          },
          "metadata": {},
          "execution_count": 14
        }
      ]
    },
    {
      "cell_type": "code",
      "metadata": {
        "colab": {
          "base_uri": "https://localhost:8080/"
        },
        "id": "lgOzrz-We4d6",
        "outputId": "492e6dfb-1037-49ad-8d75-b4ce52375849"
      },
      "source": [
        "print(\"Document Count\")\n",
        "print(reviews.groupby('Rotten_Fresh')['Critics'].count())\n",
        "print(\"Word Count\")\n",
        "reviews.groupby('Rotten_Fresh').apply(lambda x: x.Critics.apply(lambda x: len(x.split())).sum())"
      ],
      "execution_count": null,
      "outputs": [
        {
          "output_type": "stream",
          "name": "stdout",
          "text": [
            "Document Count\n",
            "Rotten_Fresh\n",
            "fresh     141\n",
            "rotten      9\n",
            "Name: Critics, dtype: int64\n",
            "Word Count\n"
          ]
        },
        {
          "output_type": "execute_result",
          "data": {
            "text/plain": [
              "Rotten_Fresh\n",
              "fresh     3415\n",
              "rotten     183\n",
              "dtype: int64"
            ]
          },
          "metadata": {},
          "execution_count": 12
        }
      ]
    },
    {
      "cell_type": "code",
      "metadata": {
        "id": "Ja7YxFlkfSTy"
      },
      "source": [
        "corpus = st.CorpusFromParsedDocuments(reviews, category_col='Rotten_Fresh', parsed_col='parsed').build()"
      ],
      "execution_count": null,
      "outputs": []
    },
    {
      "cell_type": "code",
      "metadata": {
        "colab": {
          "base_uri": "https://localhost:8080/",
          "height": 721
        },
        "id": "vhVts6WsfZ-K",
        "outputId": "5359d030-4b9f-4f13-f8d9-3345d56fc9a1"
      },
      "source": [
        "html = produce_scattertext_explorer(corpus,category='fresh',category_name='Fresh', not_category_name='Rotten',width_in_pixels=1000, minimum_term_frequency=5)\n",
        "file_name = 'StrangerThingsSeason02.html'\n",
        "open(file_name, 'wb').write(html.encode('utf-8'))\n",
        "IFrame(src=file_name, width = 1200, height=700)"
      ],
      "execution_count": null,
      "outputs": [
        {
          "output_type": "execute_result",
          "data": {
            "text/html": [
              "\n",
              "        <iframe\n",
              "            width=\"1200\"\n",
              "            height=\"700\"\n",
              "            src=\"StrangerThingsSeason02.html\"\n",
              "            frameborder=\"0\"\n",
              "            allowfullscreen\n",
              "        ></iframe>\n",
              "        "
            ],
            "text/plain": [
              "<IPython.lib.display.IFrame at 0x7fb94d65e2d0>"
            ]
          },
          "metadata": {},
          "execution_count": 16
        }
      ]
    },
    {
      "cell_type": "code",
      "metadata": {
        "colab": {
          "base_uri": "https://localhost:8080/",
          "height": 721
        },
        "id": "nq2hScR8i2Cn",
        "outputId": "85513efd-484f-4bcd-db10-c30b3c491952"
      },
      "source": [
        "html = st.produce_scattertext_explorer(corpus,\n",
        "                                       category='fresh',\n",
        "                                       category_name='Fresh',\n",
        "                                       not_category_name='Rotten',\n",
        "                                       minimum_term_frequency=5,\n",
        "                                       width_in_pixels=1000,\n",
        "                                       transform=st.Scalers.log_scale_standardize)\n",
        "file_name = 'ST02Log.html'\n",
        "open(file_name, 'wb').write(html.encode('utf-8'))\n",
        "IFrame(src=file_name, width = 1200, height=700)"
      ],
      "execution_count": null,
      "outputs": [
        {
          "output_type": "execute_result",
          "data": {
            "text/html": [
              "\n",
              "        <iframe\n",
              "            width=\"1200\"\n",
              "            height=\"700\"\n",
              "            src=\"ST02Log.html\"\n",
              "            frameborder=\"0\"\n",
              "            allowfullscreen\n",
              "        ></iframe>\n",
              "        "
            ],
            "text/plain": [
              "<IPython.lib.display.IFrame at 0x7fb94ef57990>"
            ]
          },
          "metadata": {},
          "execution_count": 17
        }
      ]
    },
    {
      "cell_type": "code",
      "metadata": {
        "colab": {
          "base_uri": "https://localhost:8080/",
          "height": 721
        },
        "id": "h8AHWczQjDwn",
        "outputId": "43327539-5151-4840-f2fd-a0f009957c8d"
      },
      "source": [
        "html = produce_scattertext_explorer(corpus,\n",
        "                                    category='fresh',\n",
        "                                    category_name='Fresh',\n",
        "                                    not_category_name='Rotten',\n",
        "                                    width_in_pixels=1000,\n",
        "                                    minimum_term_frequency=5,\n",
        "                                    transform=st.Scalers.percentile)\n",
        "file_name = 'Conventions2012ScattertextRankData.html'\n",
        "open(file_name, 'wb').write(html.encode('utf-8'))\n",
        "IFrame(src=file_name, width = 1200, height=700)"
      ],
      "execution_count": null,
      "outputs": [
        {
          "output_type": "execute_result",
          "data": {
            "text/html": [
              "\n",
              "        <iframe\n",
              "            width=\"1200\"\n",
              "            height=\"700\"\n",
              "            src=\"Conventions2012ScattertextRankData.html\"\n",
              "            frameborder=\"0\"\n",
              "            allowfullscreen\n",
              "        ></iframe>\n",
              "        "
            ],
            "text/plain": [
              "<IPython.lib.display.IFrame at 0x7fb953fd8a50>"
            ]
          },
          "metadata": {},
          "execution_count": 18
        }
      ]
    }
  ]
}